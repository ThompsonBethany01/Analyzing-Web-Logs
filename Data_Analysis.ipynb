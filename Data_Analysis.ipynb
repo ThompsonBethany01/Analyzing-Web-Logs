{
 "cells": [
  {
   "cell_type": "markdown",
   "metadata": {},
   "source": [
    "# Analyzing Web Logs of Web Dev and Data Science Curriculum\n",
    "Using Time Series Analysis to Determine \n",
    "- Anomalies in User Curriculumn Access\n",
    "- General Trends in User Curriculumn Access"
   ]
  },
  {
   "cell_type": "markdown",
   "metadata": {},
   "source": [
    "### Table of Contents\n",
    "- [Which lesson appears to attract the most traffic consistently across cohorts (per program)?](#first-bullet)\n",
    "- [Is there a cohort that referred to a lesson significantly more that other cohorts seemed to gloss over?](#second-bullet)\n",
    "- [Are there students who, when active, hardly access the curriculum? If so, what information do you have about these students?](#third-bullet)\n",
    "- [Is there any suspicious activity, such as users/machines/etc accessing the curriculum who shouldn’t be? Does it appear that any web-scraping is happening? Are there any suspicious IP addresses? Any odd user-agents?](#fourth-bullet)\n",
    "- [At some point in the last year, ability for students and alumni to cross-access curriculum (web dev to ds, ds to web dev) should have been shut off. Do you see any evidence of that happening? Did it happen before?](#fifth-bullet)\n",
    "- [What topics are grads continuing to reference after graduation and into their jobs (for each program)?](#sixth-bullet)\n",
    "- [Which lessons are least accessed?](#seventh-bullet)"
   ]
  },
  {
   "cell_type": "markdown",
   "metadata": {},
   "source": [
    "### Reference for Cohort Id's\n",
    "| cohort_id | name       | start_date | end_date   | program_id |\n",
    "|-----------|------------|------------|------------|------------|\n",
    "| 1         | Arches     | 2014-02-04 | 2014-04-22 | 1          |\n",
    "| 2         | Badlands   | 2014-06-04 | 2014-08-22 | 1          |\n",
    "| 3         | Carlsbad   | 2014-09-04 | 2014-11-05 | 1          |\n",
    "| 4         | Denali     | 2014-10-20 | 2015-01-18 | 1          |\n",
    "| 5         | Everglades | 2014-11-18 | 2015-02-24 | 1          |\n",
    "| 6         | Franklin   | 2015-02-03 | 2015-05-26 | 1          |\n",
    "| 7         | Glacier    | 2015-06-05 | 2015-10-06 | 1          |\n",
    "| 8         | Hampton    | 2015-09-22 | 2016-02-06 | 1          |\n",
    "| 9         | Apollo     | 2015-03-30 | 2015-07-29 | 4          |\n",
    "| 10        | Balboa     | 2015-11-03 | 2016-03-11 | 4          |\n",
    "| 11        | Ike        | 2016-01-20 | 2016-05-12 | 1          |\n",
    "| 12        | Joshua     | 2016-03-08 | 2016-06-30 | 1          |\n",
    "| 13        | Kings      | 2016-05-23 | 2016-09-15 | 1          |\n",
    "| 14        | Lassen     | 2016-07-18 | 2016-11-10 | 1          |\n",
    "| 15        | Mammoth    | 2016-09-26 | 2017-02-02 | 2          |\n",
    "| 16        | Niagara    | 2016-10-26 | 2017-03-09 | 2          |\n",
    "| 17        | Olympic    | 2017-02-06 | 2017-05-25 | 1          |\n",
    "| 18        | Pinnacles  | 2017-03-27 | 2017-07-20 | 2          |\n",
    "| 19        | Quincy     | 2017-06-05 | 2017-09-22 | 1          |\n",
    "| 20        | Redwood    | 2017-07-31 | 2017-12-06 | 2          |\n",
    "| 21        | Sequoia    | 2017-09-27 | 2018-02-15 | 2          |\n",
    "| 22        | Teddy      | 2018-01-08 | 2018-05-17 | 2          |\n",
    "| 23        | Ulysses    | 2018-03-05 | 2018-07-19 | 2          |\n",
    "| 24        | Voyageurs  | 2018-05-29 | 2018-10-11 | 2          |\n",
    "| 25        | Wrangell   | 2018-07-23 | 2018-11-29 | 2          |\n",
    "| 26        | Xanadu     | 2018-09-17 | 2019-02-08 | 2          |\n",
    "| 27        | Yosemite   | 2018-11-05 | 2019-04-03 | 2          |\n",
    "| 28        | Staff      | 2014-02-04 | 2014-02-04 | 2          |\n",
    "| 29        | Zion       | 2019-01-22 | 2019-06-04 | 2          |\n",
    "| 30        | Ada        | 2019-02-04 | 2019-06-16 | 3          |\n",
    "| 31        | Andromeda  | 2019-03-18 | 2019-07-30 | 2          |\n",
    "| 32        | Betelgeuse | 2019-05-28 | 2019-10-08 | 2          |\n",
    "| 33        | Ceres      | 2019-07-15 | 2019-12-11 | 2          |\n",
    "| 34        | Bayes      | 2019-08-19 | 2020-01-30 | 3          |\n",
    "| 51        | Deimos     | 2019-09-16 | 2020-02-27 | 2          |\n",
    "| 52        | Europa     | 2019-11-04 | 2020-04-17 | 2          |\n",
    "| 53        | Fortuna    | 2020-01-13 | 2020-06-23 | 2          |\n",
    "| 55        | Curie      | 2020-02-03 | 2020-07-07 | 3          |\n",
    "| 56        | Apex       | 2020-02-24 | 2020-07-29 | 2          |\n",
    "| 57        | Ganymede   | 2020-03-23 | 2020-08-20 | 2          |\n",
    "| 58        | Hyperion   | 2020-05-26 | 2020-11-10 | 2          |\n",
    "| 59        | Darden     | 2020-07-13 | 2021-01-12 | 3          |\n",
    "| 60        | Io         | 2020-07-20 | 2021-01-21 | 2          |\n",
    "| 61        | Bash       | 2020-07-20 | 2021-01-21 | 2          |\n",
    "| 62        | Jupiter    | 2020-09-21 | 2021-03-30 | 2          |\n",
    "| 132       | Kalypso    | 2020-11-02 | 2021-05-04 | 2          |\n",
    "| 0         | Unknown    |            |            |            |"
   ]
  },
  {
   "cell_type": "markdown",
   "metadata": {},
   "source": [
    "# Data Acquired with Wrangle.py Module\n",
    "- will need the txt file downloaded in working directory\n",
    "    - anonymized-curriculum-access.txt\n",
    "- reads txt file, renames columns, sets date to index, and returns the cleaned df"
   ]
  },
  {
   "cell_type": "code",
   "execution_count": 1,
   "metadata": {},
   "outputs": [],
   "source": [
    "import pandas as pd\n",
    "import numpy as np\n",
    "import matplotlib.pyplot as plt\n",
    "import seaborn as sns\n",
    "\n",
    "import Wrangle"
   ]
  },
  {
   "cell_type": "code",
   "execution_count": 2,
   "metadata": {},
   "outputs": [],
   "source": [
    "df = Wrangle.acquire_logs()"
   ]
  },
  {
   "cell_type": "code",
   "execution_count": 3,
   "metadata": {},
   "outputs": [],
   "source": [
    "# creating a dataframe of only Data Science Cohorts, any cohort with program id of 3\n",
    "DS_df = df[(df.cohort_id == 30) | (df.cohort_id == 34) | (df.cohort_id == 55) | (df.cohort_id == 59)]"
   ]
  },
  {
   "cell_type": "code",
   "execution_count": 4,
   "metadata": {},
   "outputs": [],
   "source": [
    "# filtering out pages that are not curriculum\n",
    "DS_df = DS_df[DS_df.page_viewed.str.contains('jpeg') != True]\n",
    "\n",
    "DS_df = DS_df[DS_df.page_viewed.str.contains('json') != True]\n",
    "\n",
    "DS_df = DS_df[DS_df.page_viewed.str.contains('jpg') != True]\n",
    "\n",
    "DS_df = DS_df[DS_df.page_viewed.str.contains('appendix') != True]\n",
    "\n",
    "DS_df = DS_df[DS_df.page_viewed.str.contains('Appendix') != True]\n",
    "\n",
    "DS_df = DS_df[DS_df.page_viewed != '/']\n",
    "\n",
    "DS_df = DS_df[DS_df.page_viewed != 'toc']"
   ]
  },
  {
   "cell_type": "code",
   "execution_count": 5,
   "metadata": {},
   "outputs": [],
   "source": [
    "# creating a dataframe of only Web Dev Cohorts, any cohort not DS or Staff\n",
    "WD_df = df[(df.cohort_id != 28) |(df.cohort_id != 30) | (df.cohort_id != 34) | (df.cohort_id != 55) | (df.cohort_id != 59)]"
   ]
  },
  {
   "cell_type": "code",
   "execution_count": 6,
   "metadata": {},
   "outputs": [],
   "source": [
    "# filtering out pages that are not curriculum\n",
    "WD_df = WD_df[WD_df.page_viewed.str.contains('jpeg') != True]\n",
    "\n",
    "WD_df = WD_df[WD_df.page_viewed.str.contains('json') != True]\n",
    "\n",
    "WD_df = WD_df[WD_df.page_viewed.str.contains('jpg') != True]\n",
    "\n",
    "WD_df = WD_df[WD_df.page_viewed.str.contains('appendix') != True]\n",
    "\n",
    "WD_df = WD_df[WD_df.page_viewed.str.contains('Appendix') != True]\n",
    "\n",
    "WD_df = WD_df[WD_df.page_viewed != '/']\n",
    "\n",
    "WD_df = WD_df[WD_df.page_viewed != 'toc']"
   ]
  },
  {
   "cell_type": "markdown",
   "metadata": {},
   "source": [
    "# Questions Directly Asked"
   ]
  },
  {
   "cell_type": "markdown",
   "metadata": {},
   "source": [
    "## Which lesson appears to attract the most traffic consistently across cohorts (per program)? <a class=\"anchor\" id=\"first-bullet\"></a>"
   ]
  },
  {
   "cell_type": "code",
   "execution_count": 7,
   "metadata": {},
   "outputs": [
    {
     "name": "stdout",
     "output_type": "stream",
     "text": [
      "5 Most Popular Pages in Web Dev Program\n"
     ]
    },
    {
     "data": {
      "text/plain": [
       "javascript-i    14551\n",
       "java-iii        10835\n",
       "html-css        10804\n",
       "java-ii         10374\n",
       "spring           9914\n",
       "Name: page_viewed, dtype: int64"
      ]
     },
     "execution_count": 7,
     "metadata": {},
     "output_type": "execute_result"
    }
   ],
   "source": [
    "# filtering out popular non-curriculumn pages\n",
    "print('5 Most Popular Pages in Web Dev Program')\n",
    "WD_df.page_viewed.value_counts().head(5)"
   ]
  },
  {
   "cell_type": "code",
   "execution_count": 8,
   "metadata": {},
   "outputs": [
    {
     "data": {
      "text/plain": [
       "Text(0, 0.5, 'Count of Page Visits')"
      ]
     },
     "execution_count": 8,
     "metadata": {},
     "output_type": "execute_result"
    },
    {
     "data": {
      "image/png": "[encoded data removed]",
      "text/plain": [
       "<Figure size 720x504 with 1 Axes>"
      ]
     },
     "metadata": {
      "needs_background": "light"
     },
     "output_type": "display_data"
    }
   ],
   "source": [
    "# plotting most popular page visits over time\n",
    "plt.figure(figsize=(10,7))\n",
    "WD_df[WD_df.page_viewed == 'javascript-i'].page_viewed.resample('Q').count().plot()\n",
    "plt.title('Visits of javascript-i Curriculumn Over Time')\n",
    "plt.xlabel('Time, Aggregated by Quarterlies')\n",
    "plt.ylabel('Count of Page Visits')"
   ]
  },
  {
   "cell_type": "code",
   "execution_count": 9,
   "metadata": {},
   "outputs": [
    {
     "name": "stdout",
     "output_type": "stream",
     "text": [
      "5 Most Popular Pages in Data Science Program\n"
     ]
    },
    {
     "data": {
      "text/plain": [
       "1-fundamentals/1.1-intro-to-data-science    1536\n",
       "6-regression/1-overview                     1123\n",
       "classification/overview                      860\n",
       "10-anomaly-detection/1-overview              742\n",
       "3-sql/1-mysql-overview                       704\n",
       "Name: page_viewed, dtype: int64"
      ]
     },
     "execution_count": 9,
     "metadata": {},
     "output_type": "execute_result"
    }
   ],
   "source": [
    "# filtering out popular non-curriculumn pages\n",
    "print('5 Most Popular Pages in Data Science Program')\n",
    "DS_df.page_viewed.value_counts().head()"
   ]
  },
  {
   "cell_type": "code",
   "execution_count": 10,
   "metadata": {},
   "outputs": [
    {
     "data": {
      "text/plain": [
       "Text(470, 410, 'Darden Begins')"
      ]
     },
     "execution_count": 10,
     "metadata": {},
     "output_type": "execute_result"
    },
    {
     "data": {
      "image/png": "[encoded data removed]",
      "text/plain": [
       "<Figure size 720x504 with 1 Axes>"
      ]
     },
     "metadata": {
      "needs_background": "light"
     },
     "output_type": "display_data"
    }
   ],
   "source": [
    "# plotting most popular page visits over time\n",
    "plt.figure(figsize=(10,7))\n",
    "WD_df[WD_df.page_viewed == '1-fundamentals/1.1-intro-to-data-science'].page_viewed.resample('W').count().plot()\n",
    "plt.title('Visits of Intro to DS Curriculumn Over Time')\n",
    "plt.xlabel('Time, Aggregated by Weeks')\n",
    "plt.ylabel('Count of Page Visits')\n",
    "\n",
    "plt.annotate('Bayes Begins',\n",
    "            xy=(50, 260), xycoords='figure pixels')\n",
    "\n",
    "plt.annotate('Curie Begins',\n",
    "            xy=(265, 260), xycoords='figure pixels')\n",
    "\n",
    "plt.annotate('Darden Begins',\n",
    "            xy=(470, 410), xycoords='figure pixels')"
   ]
  },
  {
   "cell_type": "code",
   "execution_count": 11,
   "metadata": {
    "scrolled": false
   },
   "outputs": [
    {
     "data": {
      "text/plain": [
       "Text(0, 0.5, 'Count of Page Visits')"
      ]
     },
     "execution_count": 11,
     "metadata": {},
     "output_type": "execute_result"
    },
    {
     "data": {
      "image/png": "[encoded data removed]",
      "text/plain": [
       "<Figure size 720x504 with 1 Axes>"
      ]
     },
     "metadata": {
      "needs_background": "light"
     },
     "output_type": "display_data"
    }
   ],
   "source": [
    "# plotting most popular page visits over time\n",
    "plt.figure(figsize=(10,7))\n",
    "WD_df[WD_df.page_viewed == '6-regression/1-overview'].page_viewed.resample('W').count().plot()\n",
    "plt.title('Visits of Regression Overview Curriculumn Over Time')\n",
    "plt.xlabel('Time, Aggregated by Weeks')\n",
    "plt.ylabel('Count of Page Visits')"
   ]
  },
  {
   "cell_type": "markdown",
   "metadata": {},
   "source": [
    "## Is there a cohort that referred to a lesson significantly more that other cohorts seemed to gloss over? <a class=\"anchor\" id=\"second-bullet\"></a>"
   ]
  },
  {
   "cell_type": "markdown",
   "metadata": {},
   "source": [
    "### Data Science Cohorts"
   ]
  },
  {
   "cell_type": "code",
   "execution_count": 12,
   "metadata": {},
   "outputs": [
    {
     "data": {
      "text/plain": [
       "Index(['1-fundamentals/1.1-intro-to-data-science', '6-regression/1-overview',\n",
       "       'classification/overview', '10-anomaly-detection/1-overview',\n",
       "       '3-sql/1-mysql-overview'],\n",
       "      dtype='object')"
      ]
     },
     "execution_count": 12,
     "metadata": {},
     "output_type": "execute_result"
    }
   ],
   "source": [
    "pd.DataFrame(DS_df.page_viewed.value_counts().head(5)).index"
   ]
  },
  {
   "cell_type": "code",
   "execution_count": 13,
   "metadata": {},
   "outputs": [],
   "source": [
    "popular_DS = DS_df[(DS_df.page_viewed == '1-fundamentals/1.1-intro-to-data-science') | (DS_df.page_viewed == '6-regression/1-overview') | (DS_df.page_viewed == 'classification/overview') | (DS_df.page_viewed == '10-anomaly-detection/1-overview') | (DS_df.page_viewed == '3-sql/1-mysql-overview')]"
   ]
  },
  {
   "cell_type": "code",
   "execution_count": 14,
   "metadata": {},
   "outputs": [],
   "source": [
    "popular_DS = pd.crosstab(popular_DS.cohort_id, popular_DS.page_viewed)"
   ]
  },
  {
   "cell_type": "code",
   "execution_count": 15,
   "metadata": {},
   "outputs": [],
   "source": [
    "popular_DS.columns = ['Fundamentals_Intro','Anomaly_Overview','MySQL_Overview','Regression_Overview','Classification_Overview']"
   ]
  },
  {
   "cell_type": "code",
   "execution_count": 16,
   "metadata": {},
   "outputs": [
    {
     "data": {
      "image/png": "[encoded data removed]",
      "text/plain": [
       "<Figure size 936x576 with 5 Axes>"
      ]
     },
     "metadata": {
      "needs_background": "light"
     },
     "output_type": "display_data"
    }
   ],
   "source": [
    "x = 1\n",
    "plt.figure(figsize=(13,8))\n",
    "for col in popular_DS.columns:\n",
    "    plt.subplot(3,2,x)\n",
    "    x = x + 1\n",
    "    sns.barplot(x=popular_DS.index, y=popular_DS[col])\n",
    "    plt.title(col)\n",
    "    plt.xlabel(\"Cohort ID\")\n",
    "    plt.ylabel(\"Count of Page Views\")\n",
    "    \n",
    "plt.tight_layout()"
   ]
  },
  {
   "cell_type": "markdown",
   "metadata": {},
   "source": [
    "### Web Dev Cohorts"
   ]
  },
  {
   "cell_type": "code",
   "execution_count": 17,
   "metadata": {},
   "outputs": [
    {
     "data": {
      "text/plain": [
       "Index(['javascript-i', 'java-iii', 'html-css', 'java-ii', 'spring'], dtype='object')"
      ]
     },
     "execution_count": 17,
     "metadata": {},
     "output_type": "execute_result"
    }
   ],
   "source": [
    "pd.DataFrame(WD_df.page_viewed.value_counts().head(5)).index"
   ]
  },
  {
   "cell_type": "code",
   "execution_count": 18,
   "metadata": {},
   "outputs": [],
   "source": [
    "popular_WD = WD_df[(WD_df.page_viewed == 'javascript-i') | (WD_df.page_viewed == 'java-iii') | (WD_df.page_viewed == 'html-css') | (WD_df.page_viewed == 'java-ii') | (WD_df.page_viewed == 'spring')]"
   ]
  },
  {
   "cell_type": "code",
   "execution_count": 19,
   "metadata": {},
   "outputs": [],
   "source": [
    "popular_WD = pd.crosstab(popular_WD.cohort_id, popular_WD.page_viewed)"
   ]
  },
  {
   "cell_type": "code",
   "execution_count": 20,
   "metadata": {},
   "outputs": [
    {
     "data": {
      "image/png": "[encoded data removed]",
      "text/plain": [
       "<Figure size 1080x576 with 5 Axes>"
      ]
     },
     "metadata": {
      "needs_background": "light"
     },
     "output_type": "display_data"
    }
   ],
   "source": [
    "x = 1\n",
    "plt.figure(figsize=(15,8))\n",
    "\n",
    "for col in popular_WD.columns:\n",
    "    plt.subplot(3,2,x)\n",
    "    x = x + 1\n",
    "    sns.barplot(x=popular_WD.index, y=popular_WD[col])\n",
    "    plt.title(col)\n",
    "    plt.xlabel(\"Cohort ID\")\n",
    "    plt.ylabel(\"Count of Page Views\")\n",
    "    \n",
    "plt.tight_layout()"
   ]
  },
  {
   "cell_type": "markdown",
   "metadata": {},
   "source": [
    "# Are there students who, when active, hardly access the curriculum? If so, what information do you have about these students? <a class=\"anchor\" id=\"third-bullet\"></a>\n",
    "- active cohort id's == 58, 59, 60, 61"
   ]
  },
  {
   "cell_type": "code",
   "execution_count": 21,
   "metadata": {},
   "outputs": [],
   "source": [
    "active_df = df[(df.cohort_id == 58) | (df.cohort_id == 59) | (df.cohort_id == 60) | (df.cohort_id == 61)]"
   ]
  },
  {
   "cell_type": "code",
   "execution_count": 22,
   "metadata": {},
   "outputs": [
    {
     "data": {
      "text/plain": [
       "user_id\n",
       "268     781\n",
       "655    1107\n",
       "656    2452\n",
       "657    1304\n",
       "658    1589\n",
       "       ... \n",
       "780      52\n",
       "781      94\n",
       "783      54\n",
       "784      93\n",
       "785      31\n",
       "Name: page_viewed, Length: 72, dtype: int64"
      ]
     },
     "execution_count": 22,
     "metadata": {},
     "output_type": "execute_result"
    }
   ],
   "source": [
    "active_df.groupby('user_id')['page_viewed'].count()"
   ]
  },
  {
   "cell_type": "markdown",
   "metadata": {},
   "source": [
    "# Is there any suspicious activity, such as users/machines/etc accessing the curriculum who shouldn’t be? Does it appear that any web-scraping is happening? Are there any suspicious IP addresses? Any odd user-agents? <a class=\"anchor\" id=\"fourth-bullet\"></a>"
   ]
  },
  {
   "cell_type": "markdown",
   "metadata": {},
   "source": [
    "Note: pages_viewed has a suspicous page \"%20https://github.com/RaulCPena\""
   ]
  },
  {
   "cell_type": "code",
   "execution_count": null,
   "metadata": {},
   "outputs": [],
   "source": []
  },
  {
   "cell_type": "markdown",
   "metadata": {},
   "source": [
    "## At some point in the last year, ability for students and alumni to cross-access curriculum (web dev to ds, ds to web dev) should have been shut off. Do you see any evidence of that happening? Did it happen before? <a class=\"anchor\" id=\"fifth-bullet\"></a>"
   ]
  },
  {
   "cell_type": "code",
   "execution_count": 23,
   "metadata": {},
   "outputs": [],
   "source": [
    "WD_users = list(WD_df.user_id.unique())"
   ]
  },
  {
   "cell_type": "code",
   "execution_count": 24,
   "metadata": {},
   "outputs": [],
   "source": [
    "DS_users = list(DS_df.user_id.unique())"
   ]
  },
  {
   "cell_type": "markdown",
   "metadata": {},
   "source": [
    "## What topics are grads continuing to reference after graduation and into their jobs (for each program)? <a class=\"anchor\" id=\"sixth-bullet\"></a>"
   ]
  },
  {
   "cell_type": "code",
   "execution_count": null,
   "metadata": {},
   "outputs": [],
   "source": []
  },
  {
   "cell_type": "markdown",
   "metadata": {},
   "source": [
    "## Which lessons are least accessed? <a class=\"anchor\" id=\"seventh-bullet\"></a>"
   ]
  },
  {
   "cell_type": "code",
   "execution_count": 25,
   "metadata": {},
   "outputs": [],
   "source": [
    "page_counts = pd.DataFrame(WD_df.page_viewed.value_counts())"
   ]
  },
  {
   "cell_type": "code",
   "execution_count": 26,
   "metadata": {
    "scrolled": true
   },
   "outputs": [
    {
     "data": {
      "text/plain": [
       "['html-css/grid/css-grid-fundamentals',\n",
       " 'python/custom-sorting-functions',\n",
       " 'java-iii/servelet',\n",
       " '12-distributed-ml/spark-topics',\n",
       " 'Correlation.md',\n",
       " 'j',\n",
       " '7-clustering/review',\n",
       " 'html-css/css-i/positioning/specimen/MaterialIcons-Regular.ttf',\n",
       " 'capsones/151',\n",
       " '4-stats/2.3-sampling',\n",
       " 'relationships/indexes',\n",
       " 'capstone/55',\n",
       " '3-vocabulary',\n",
       " '2.00.01_Navigating_Excel.md',\n",
       " '12-advanced-topics/3.3-building-a-model',\n",
       " 'asdf',\n",
       " 'python',\n",
       " ',%20https://github.com/RaulCPena',\n",
       " 'extra-challenges/java-file-io-extras',\n",
       " 'prep_311data_for_module',\n",
       " 'ajax',\n",
       " 'capstone/54',\n",
       " '3.5-evaluation.md',\n",
       " '5-stats/4.2-compare-means/null',\n",
       " '5.01_Prep',\n",
       " 'elements/html',\n",
       " '5-stats/2.5-distributions-and-testing',\n",
       " 'distributed-ml/read-jdbc',\n",
       " 'javascript-i/math',\n",
       " '5-stats/2.1-probability_and_event_interactions',\n",
       " '6-regression/2-intro-to-regression',\n",
       " 'content/examples/javascript/conditionals.html',\n",
       " 'register%20t',\n",
       " '4-stats/1-descriptive-stats',\n",
       " '10-nlp/entity-labeling',\n",
       " 'students/743/notes/1',\n",
       " 'html-css/css-i/positioning/specimen/MaterialIcons-Regular.woff2',\n",
       " '.gitignore',\n",
       " 'python/handling-duplicate-values',\n",
       " '6.03_Explore',\n",
       " 'javascript-ii/promisesdfghjkjhgfs',\n",
       " 'further-reading/java/intellij-tomcat-configuration',\n",
       " 'curie-python-assessment.html',\n",
       " 'handouts',\n",
       " 'content/examples/html',\n",
       " '131',\n",
       " '2-stats/4.8-feature-scaling',\n",
       " 'Lesson_Modeling',\n",
       " '4-stats/2.6-compare-means',\n",
       " 'bayes-capstones/html',\n",
       " 'classification/project-old-exec',\n",
       " '133',\n",
       " 'extra-challenges/basic-challenges',\n",
       " '6-stats',\n",
       " 'studentx',\n",
       " 'imports',\n",
       " 'users/167',\n",
       " 'content/examples/php/technology-companies.php',\n",
       " '8._Time_Series.md',\n",
       " 'examples/css/..%255c',\n",
       " 'ltc-python',\n",
       " 'control-statements-and-loops',\n",
       " '11-distributed-ml/4-acquire',\n",
       " 'slides/exceptions_and_error_handlings',\n",
       " '12-distributed-ml/6.1-prepare-part-1',\n",
       " 'quiz115',\n",
       " '8.0_Intro_Module',\n",
       " 'Clustering_DataPrep',\n",
       " 'logouts',\n",
       " '11-nlp/word-2-vec.md',\n",
       " '6.3_Aquire',\n",
       " 'tc-ml',\n",
       " '11_Intro',\n",
       " 'content/examples/php/arithmetic.php',\n",
       " 'anomaly-detection/time-series-anomaly-detection-part-1',\n",
       " 'cheatsheet.tex',\n",
       " 'html/forms',\n",
       " '6-regression/3-univariate-regression-in-excel',\n",
       " 'extra-challenges',\n",
       " 'students/units/75/sub_units/268',\n",
       " 'Regression_Python1',\n",
       " '%20https://github.com/RaulCPena',\n",
       " 'capstone/index',\n",
       " 'main-pages_xXxXx.html',\n",
       " '2-stats/2.4-more-excel-features',\n",
       " '4-stats/2.7-correlation',\n",
       " '5.04.04_LeastAngleRegression',\n",
       " 'help',\n",
       " 'quic/115',\n",
       " 'capstone/index.md',\n",
       " 'merge_Ensemble',\n",
       " 'src',\n",
       " 'interview-questions',\n",
       " 'cli/4-navigating-the-filesystem',\n",
       " 'slides/css',\n",
       " 'examples/html/welcome',\n",
       " 'examples/twitter.html',\n",
       " 'itc-ml',\n",
       " 'regression/ridge-regression',\n",
       " 'student',\n",
       " '11-distributed-ml/6.1-prepare-part-1',\n",
       " 'quiz/submit/2186',\n",
       " '7_exercises',\n",
       " 'content/examples/php/internal_functions.php',\n",
       " 'javascri',\n",
       " 'slides/jpa',\n",
       " 'bom-and-dom/dom-events',\n",
       " 'java-1',\n",
       " 'ajax/weather-map',\n",
       " 'content/mysql/clauses/order-by.html',\n",
       " 'capstone/53',\n",
       " '.git',\n",
       " 'modeling-lesson1',\n",
       " 'cohorts/24/grades',\n",
       " '7-clustering/dbscan',\n",
       " 'content/examples/php/Input.php',\n",
       " 'content/jquery/events/gitbook/images/favicon.ico',\n",
       " 'content/mysql/relationships/indexes.html',\n",
       " 'slides/exceptions_and_errorhandlings',\n",
       " 'content/postwork/dashboard.md',\n",
       " 'introduction/operators',\n",
       " '7.4.1-pandas-overview',\n",
       " '7_Projects',\n",
       " 'examples/css/%252e%252e%255c',\n",
       " 'datascience',\n",
       " 'html-css/box',\n",
       " 'css-ii/grids',\n",
       " 'student/120',\n",
       " 'codeup-exercises',\n",
       " 'mysql//sample-database',\n",
       " 'javascript-i/introduction/working-with-data-types-operators-and-variables/600%20Navarro%20St.,%20San%20Antonio,%20TX%2078205,%20United%20States%20of%20America',\n",
       " 'file.dat',\n",
       " '132',\n",
       " 'html-css/css-ii/boostrap-grid-system',\n",
       " '4-python',\n",
       " 'home',\n",
       " 'data-science',\n",
       " '5-detecting-with-clustering',\n",
       " 'professional-development/cover-letter',\n",
       " 'content/html-css/forms-i/index.html',\n",
       " 'slides/coding_best_practices',\n",
       " 'student/850',\n",
       " 'classification/handling-missing-values',\n",
       " 'A-clustering/project',\n",
       " 'hfdgafdja',\n",
       " 'content/jquery/effects/gitbook/images/favicon.ico',\n",
       " 'java-iii/mvc.jsp',\n",
       " 'html-css/elecments',\n",
       " '8_Prophet_Lesson',\n",
       " 'student-page',\n",
       " '4-stats/2.5-distributions-and-testing',\n",
       " 'Clustering_Project',\n",
       " 'html',\n",
       " 'ds',\n",
       " 'mysql//functions',\n",
       " 'slidesexceptions_and_errorhandlings',\n",
       " '10-nlp/topic-modeling',\n",
       " 'npm',\n",
       " '8.7_Project',\n",
       " 'javascript-i/bom-and-dom/bom/http%22://www.google.com',\n",
       " 'register.',\n",
       " 'content/examples/constructors-destructors.html',\n",
       " 'object-oriented-programming',\n",
       " 'slides/threads',\n",
       " 'cohorts/27/quizzes',\n",
       " 'bonus-exercises',\n",
       " 'jquery/traversing',\n",
       " 'javascript-functions',\n",
       " 'grades/getUserDetails/918/3',\n",
       " 'users/1/edit',\n",
       " 'content/examples/php/while.html',\n",
       " 'Index.html',\n",
       " '115',\n",
       " 'php_i/gitbook/images/favicon.ico',\n",
       " 'capstone/50',\n",
       " 'examples/css//logincss',\n",
       " 'javascript/apendix',\n",
       " 'jquery/whack-a-mole',\n",
       " '11-distributed-ml/6.4-prepare-part-4',\n",
       " 'students/882/EDIT',\n",
       " '8.8_Project',\n",
       " '4-stats/2.1-probability_and_event_interactions',\n",
       " 'scale_features_or_not.svg',\n",
       " 'java-i/loops',\n",
       " '10_Projects',\n",
       " '10-anomaly-detection/2-continuous-probabilistic-methods.md',\n",
       " 'content/html-css/elements-i/lists.html',\n",
       " 'students/643/This%20alumnus%20works%20for%20Appdiction%20Studios,%20as%20of%20this%20timestamp.%20This%20company%20is%20launching%20a%20bootcamp%20program%20in%20competition.%20For%20this%20reason,%20curriculum%20access%20is%20disabled%20until%20further%20notice.',\n",
       " 'quizes',\n",
       " 'java-i/control-statements-and-loops/g',\n",
       " 'data-1',\n",
       " 'javascript-i/primitive-types',\n",
       " '12-distributed-ml/6.4-prepare-part-4',\n",
       " 'extra-features/file-upload',\n",
       " 'DataSets_SaaSCustomerChurn',\n",
       " 'ml-ltc',\n",
       " '7.04.02_Hierarchical',\n",
       " 'DataSet_Zillow',\n",
       " 'cohorts/24/capstone-all',\n",
       " 'java-i/control-stateedabitments-and-loops',\n",
       " 'html-css/img/favicon.ico',\n",
       " 'extra-features',\n",
       " 'habn',\n",
       " '10.00_Intro',\n",
       " 'java-iii/servlets/cssasxz',\n",
       " 'further-reading/javascript/array-splice',\n",
       " 'bayes-capstones',\n",
       " 'glossary',\n",
       " '10.00_Intro.html',\n",
       " 'curie-statistics-assessment',\n",
       " 'spring/integration-tests',\n",
       " 'content/php_iii/alternative-syntax.html',\n",
       " '7_kmeans_by_hand',\n",
       " '4-stats/2.2-probability_distributions',\n",
       " '5-stats/2.8-feature-scaling',\n",
       " 'javascript/loops',\n",
       " 'examples/css/..%5c',\n",
       " '8-timeseries/4-prep',\n",
       " 'fundamentals/views',\n",
       " '9-anomaly-detection/time-series-anomaly-detection-part-1',\n",
       " 'PreWork/PreWork/cli',\n",
       " 'codeupexercises',\n",
       " 'mysql//extra-exercises',\n",
       " 'user/913',\n",
       " 'team-setups',\n",
       " '130',\n",
       " 'Dataset_Challenge',\n",
       " 'students/300/notes',\n",
       " 'login.aspx',\n",
       " 'examples/css/..%c0%af',\n",
       " 'itc%20-%20ml',\n",
       " 'teams/13',\n",
       " 'capstone/52',\n",
       " '5-stats',\n",
       " 'wp-admin',\n",
       " '2-sql/database-design',\n",
       " '8_ts_split',\n",
       " 'spring/services',\n",
       " '7.4.2-series',\n",
       " '11-distributed-ml/exercises',\n",
       " 'slides/formmodelbinding',\n",
       " 'Python_Libraries',\n",
       " 'content/control-structures-ii',\n",
       " 'essential-methods/traversing',\n",
       " '6.04.05_SVM',\n",
       " 'users/2/edit',\n",
       " '167',\n",
       " 'fundamentals/repositories',\n",
       " 'grades',\n",
       " 'annotations',\n",
       " '4-stats/2.4-power-analysis',\n",
       " 'bad-charts',\n",
       " 'quizzes',\n",
       " 'teams',\n",
       " 'content/loops.html',\n",
       " 'htmle-css/elements',\n",
       " 'one',\n",
       " 'cohorts/%7Bid%7D/grades.csvhttp://tools.codeup.com/cohorts/26/grades.csv',\n",
       " '4-stats/2.2-probability_distributions/Selecting_a_hypothesis_test.svg',\n",
       " 'java-iii/servelets',\n",
       " 'css-i/introduction',\n",
       " 'mysql/java-iii',\n",
       " 'bom-and-dom/dom',\n",
       " 'hand',\n",
       " 'interview',\n",
       " '8.1_Project',\n",
       " '4-python/overview',\n",
       " 'quize/98',\n",
       " 'mysql//ntellij',\n",
       " 'About_NLP',\n",
       " 'statistics-assessment',\n",
       " 'introduction/variables',\n",
       " 'mysql/clauses/limit-order-by',\n",
       " '11-distributed-ml/6.3-prepare-part-3',\n",
       " 'objects/math',\n",
       " 'html-css/positioning',\n",
       " '4.2-compare-means',\n",
       " '5.01',\n",
       " 'prework/cli/03-filepaths',\n",
       " 'students/743/notes/0',\n",
       " 'ada-capsontes.html',\n",
       " 'content/examples/gitbook/images/favicon.ico',\n",
       " '2.1-spreadsheets-overview',\n",
       " 'stats/probability-and-event-interactions',\n",
       " 'content/javascript-with-html.html',\n",
       " 'users/913',\n",
       " 'javascript-i/loops/google.com',\n",
       " 'hello-bayes-cohort-yall-are-awesome',\n",
       " 'javascript-i/introduction/working-with-data-types-operators-and-variables/google.com',\n",
       " 'html-css/css-i/positioning/specimen/MaterialIcons-Regular.woff',\n",
       " 'code-standards/html-css',\n",
       " 'content/javascript/arrays/arrays',\n",
       " 'students',\n",
       " '2-storytelling/1-overview/www.qlik.com',\n",
       " 'content/conditionals.html',\n",
       " 'instructors',\n",
       " '8-timeseries/2-intro-to-timeseries',\n",
       " '6-regression/8-Project',\n",
       " '6.04.01_Preprocessing',\n",
       " '2.0_Intro_Stats',\n",
       " 'slides/array-lists',\n",
       " 'students/743/notes',\n",
       " 'student/202',\n",
       " 'content/git/index.html',\n",
       " 'java-iii/jdbc/poop',\n",
       " 'b-clustering/project',\n",
       " 't9-solution/index.html',\n",
       " 'student/create',\n",
       " 'Explore_Lesson',\n",
       " 'regression/project/null',\n",
       " 'sql',\n",
       " '8-clustering/End_to_End_Clustering',\n",
       " 'slides/form',\n",
       " 'learn-to-code',\n",
       " '11.04_Modeling',\n",
       " 'javascript-i/img/favicon.ico',\n",
       " '6-regression/4-multivariate-regression-in-excel',\n",
       " '10-anomaly-detection/2-continuous-probabilistic-methods.ipynb',\n",
       " 'javascript-i/bom-and-dom/bom/google.com',\n",
       " 'grades/getUserDetails/912/3',\n",
       " '11-distributed-ml/3-getting-started',\n",
       " 'further-reading/html-css/flexbox-additional-concepts',\n",
       " 'syntax-types-and-variables',\n",
       " 'ltc-ml/slides/1',\n",
       " 'ui/typography',\n",
       " 'loguout',\n",
       " '3-sql',\n",
       " '5-stats/2-inferential-stats',\n",
       " '1._Fundamentals/index.html',\n",
       " 'css',\n",
       " '2.03.04_StatisticalTestEvaluation',\n",
       " 'content/mysql/intro-to-mysql/index.html',\n",
       " 'web-design/ux',\n",
       " 'introduction-to-matplotlib',\n",
       " 'quiz118',\n",
       " 'interview_questions',\n",
       " 'java-ii/file-op',\n",
       " 'slides/exceptions',\n",
       " 'javascript/google-maps-api',\n",
       " '10.02.04_EntityLabeling.md',\n",
       " 'prework/cli/07-editing-files-with-vim',\n",
       " '11-distributed-ml/6.2-prepare-part-2',\n",
       " 'End_to_End_clustering',\n",
       " '13-storytelling/2.2-create',\n",
       " '11.01.03_Summarize.md',\n",
       " '9.4_DBSCAN_to_detect_anomalies.md',\n",
       " 'app',\n",
       " 'wp-login',\n",
       " '8-timeseries/1-overview',\n",
       " 'end_to_end_clustering',\n",
       " 'arash-arghavan',\n",
       " 'regression/least-angle-regression',\n",
       " 'content/examples/javascript/primitive-types.html',\n",
       " '5_Project',\n",
       " 'query/personal-site',\n",
       " 'stats-assessment']"
      ]
     },
     "execution_count": 26,
     "metadata": {},
     "output_type": "execute_result"
    }
   ],
   "source": [
    "list(page_counts[page_counts.page_viewed == 1].index)"
   ]
  },
  {
   "cell_type": "code",
   "execution_count": 29,
   "metadata": {},
   "outputs": [],
   "source": [
    "page_counts = pd.DataFrame(DS_df.page_viewed.value_counts())"
   ]
  },
  {
   "cell_type": "code",
   "execution_count": 30,
   "metadata": {
    "scrolled": true
   },
   "outputs": [
    {
     "data": {
      "text/plain": [
       "['End_to_End_clustering',\n",
       " '10-anomaly-detection/3-discrete-probabilistic-methods.ipynb',\n",
       " '12-distributed-ml/3-getting-started',\n",
       " '7.4.1-pandas-overview',\n",
       " ',%20https://github.com/RaulCPena',\n",
       " '12-distributed-ml/6.2-prepare-part-2',\n",
       " '6-regression/8-Project',\n",
       " 'end_to_end_clustering',\n",
       " '2-storytelling/1-overview/www.qlik.com',\n",
       " 'imports',\n",
       " '%20https://github.com/RaulCPena',\n",
       " 'curie-statistics-assessment',\n",
       " 'regression/least-angle-regression',\n",
       " '12-distributed-ml/8.1-classification',\n",
       " 'python/custom-sorting-functions',\n",
       " 'index.html',\n",
       " '7.4.2-series',\n",
       " 'A-clustering/project',\n",
       " 'anomaly-detection/time-series-anomaly-detection-part-1',\n",
       " 'b-clustering/project',\n",
       " 'cli/4-navigating-the-filesystem',\n",
       " 'classification/project-old-exec',\n",
       " 'database-design',\n",
       " 'grades',\n",
       " '2-storytelling/chart-types',\n",
       " '4-python/pandas-lesson',\n",
       " '5-stats/4.2-compare-means/null',\n",
       " '12-distributed-ml/4-acquire',\n",
       " 'spring/extra-features/error-pages/asdfasdf',\n",
       " 'regression/ridge-regression',\n",
       " 'advanced-topics/html-forms',\n",
       " 'bad-charts',\n",
       " 'explore',\n",
       " 'spring/extra-features/error-pages',\n",
       " 'statistics-assessment',\n",
       " '3-vocabulary',\n",
       " '3-sql',\n",
       " 'python/handling-duplicate-values',\n",
       " '9-timeseries/6.1-parametric-modeling',\n",
       " '4.2-compare-means',\n",
       " '9-timeseries/6.2-prophet',\n",
       " 'git/cli',\n",
       " 'scale_features_or_not.svg',\n",
       " '7-classification/confusion-matrix',\n",
       " '2.1-spreadsheets-overview',\n",
       " 'grades/getUserDetails/916/3',\n",
       " '12-distributed-ml/5-inspect',\n",
       " 'regression/project/null',\n",
       " '12-distributed-ml/6.1-prepare-part-1',\n",
       " 'itc-ml',\n",
       " '7-classification/svm',\n",
       " 'stats/probability-and-event-interactions',\n",
       " 'advanced-topics/tidy-data',\n",
       " 'javascript-i/bom-and-dom/dom',\n",
       " '5-detecting-with-clustering',\n",
       " 'Index.html',\n",
       " 'java-ii/object-oriented-programming',\n",
       " 'javascript-i/conditionals',\n",
       " 'capstones',\n",
       " '12-distributed-ml/spark-topics',\n",
       " '12-distributed-ml/6.3-prepare-part-3',\n",
       " 'itc%20-%20ml',\n",
       " 'java-i/console-io',\n",
       " '12-distributed-ml/6.4-prepare-part-4',\n",
       " 'classification/handling-missing-values',\n",
       " 'stats-assessment',\n",
       " 'distributed-ml/read-jdbc']"
      ]
     },
     "execution_count": 30,
     "metadata": {},
     "output_type": "execute_result"
    }
   ],
   "source": [
    "list(page_counts[page_counts.page_viewed == 1].index)"
   ]
  }
 ],
 "metadata": {
  "kernelspec": {
   "display_name": "Python 3",
   "language": "python",
   "name": "python3"
  },
  "language_info": {
   "codemirror_mode": {
    "name": "ipython",
    "version": 3
   },
   "file_extension": ".py",
   "mimetype": "text/x-python",
   "name": "python",
   "nbconvert_exporter": "python",
   "pygments_lexer": "ipython3",
   "version": "3.7.6"
  }
 },
 "nbformat": 4,
 "nbformat_minor": 4
}
