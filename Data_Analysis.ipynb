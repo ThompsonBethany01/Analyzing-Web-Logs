{
 "cells": [
  {
   "cell_type": "markdown",
   "metadata": {},
   "source": [
    "# Analyzing Web Logs\n",
    "Using Time Series Analysis to Determine \n",
    "- Anomalies in User Curriculumn Access\n",
    "- General Trends in User Curriculumn Access"
   ]
  },
  {
   "cell_type": "markdown",
   "metadata": {},
   "source": [
    "### Table of Contents\n",
    "- [Which lesson appears to attract the most traffic consistently across cohorts (per program)?](#first-bullet)\n",
    "- [Is there a cohort that referred to a lesson significantly more that other cohorts seemed to gloss over?](#second-bullet)\n",
    "- [Are there students who, when active, hardly access the curriculum? If so, what information do you have about these students?](#third-bullet)\n",
    "- [Is there any suspicious activity, such as users/machines/etc accessing the curriculum who shouldn’t be? Does it appear that any web-scraping is happening? Are there any suspicious IP addresses? Any odd user-agents?](#fourth-bullet)\n",
    "- [At some point in the last year, ability for students and alumni to cross-access curriculum (web dev to ds, ds to web dev) should have been shut off. Do you see any evidence of that happening? Did it happen before?](#fifth-bullet)\n",
    "- [What topics are grads continuing to reference after graduation and into their jobs (for each program)?](#sixth-bullet)\n",
    "- [Which lessons are least accessed?](#seventh-bullet)"
   ]
  },
  {
   "cell_type": "markdown",
   "metadata": {},
   "source": [
    "### Reference for Cohort Id's\n",
    "| cohort_id | name       | start_date | end_date   | program_id |\n",
    "|-----------|------------|------------|------------|------------|\n",
    "| 1         | Arches     | 2014-02-04 | 2014-04-22 | 1          |\n",
    "| 2         | Badlands   | 2014-06-04 | 2014-08-22 | 1          |\n",
    "| 3         | Carlsbad   | 2014-09-04 | 2014-11-05 | 1          |\n",
    "| 4         | Denali     | 2014-10-20 | 2015-01-18 | 1          |\n",
    "| 5         | Everglades | 2014-11-18 | 2015-02-24 | 1          |\n",
    "| 6         | Franklin   | 2015-02-03 | 2015-05-26 | 1          |\n",
    "| 7         | Glacier    | 2015-06-05 | 2015-10-06 | 1          |\n",
    "| 8         | Hampton    | 2015-09-22 | 2016-02-06 | 1          |\n",
    "| 9         | Apollo     | 2015-03-30 | 2015-07-29 | 4          |\n",
    "| 10        | Balboa     | 2015-11-03 | 2016-03-11 | 4          |\n",
    "| 11        | Ike        | 2016-01-20 | 2016-05-12 | 1          |\n",
    "| 12        | Joshua     | 2016-03-08 | 2016-06-30 | 1          |\n",
    "| 13        | Kings      | 2016-05-23 | 2016-09-15 | 1          |\n",
    "| 14        | Lassen     | 2016-07-18 | 2016-11-10 | 1          |\n",
    "| 15        | Mammoth    | 2016-09-26 | 2017-02-02 | 2          |\n",
    "| 16        | Niagara    | 2016-10-26 | 2017-03-09 | 2          |\n",
    "| 17        | Olympic    | 2017-02-06 | 2017-05-25 | 1          |\n",
    "| 18        | Pinnacles  | 2017-03-27 | 2017-07-20 | 2          |\n",
    "| 19        | Quincy     | 2017-06-05 | 2017-09-22 | 1          |\n",
    "| 20        | Redwood    | 2017-07-31 | 2017-12-06 | 2          |\n",
    "| 21        | Sequoia    | 2017-09-27 | 2018-02-15 | 2          |\n",
    "| 22        | Teddy      | 2018-01-08 | 2018-05-17 | 2          |\n",
    "| 23        | Ulysses    | 2018-03-05 | 2018-07-19 | 2          |\n",
    "| 24        | Voyageurs  | 2018-05-29 | 2018-10-11 | 2          |\n",
    "| 25        | Wrangell   | 2018-07-23 | 2018-11-29 | 2          |\n",
    "| 26        | Xanadu     | 2018-09-17 | 2019-02-08 | 2          |\n",
    "| 27        | Yosemite   | 2018-11-05 | 2019-04-03 | 2          |\n",
    "| 28        | Staff      | 2014-02-04 | 2014-02-04 | 2          |\n",
    "| 29        | Zion       | 2019-01-22 | 2019-06-04 | 2          |\n",
    "| 30        | Ada        | 2019-02-04 | 2019-06-16 | 3          |\n",
    "| 31        | Andromeda  | 2019-03-18 | 2019-07-30 | 2          |\n",
    "| 32        | Betelgeuse | 2019-05-28 | 2019-10-08 | 2          |\n",
    "| 33        | Ceres      | 2019-07-15 | 2019-12-11 | 2          |\n",
    "| 34        | Bayes      | 2019-08-19 | 2020-01-30 | 3          |\n",
    "| 51        | Deimos     | 2019-09-16 | 2020-02-27 | 2          |\n",
    "| 52        | Europa     | 2019-11-04 | 2020-04-17 | 2          |\n",
    "| 53        | Fortuna    | 2020-01-13 | 2020-06-23 | 2          |\n",
    "| 55        | Curie      | 2020-02-03 | 2020-07-07 | 3          |\n",
    "| 56        | Apex       | 2020-02-24 | 2020-07-29 | 2          |\n",
    "| 57        | Ganymede   | 2020-03-23 | 2020-08-20 | 2          |\n",
    "| 58        | Hyperion   | 2020-05-26 | 2020-11-10 | 2          |\n",
    "| 59        | Darden     | 2020-07-13 | 2021-01-12 | 3          |\n",
    "| 60        | Io         | 2020-07-20 | 2021-01-21 | 2          |\n",
    "| 61        | Bash       | 2020-07-20 | 2021-01-21 | 2          |\n",
    "| 62        | Jupiter    | 2020-09-21 | 2021-03-30 | 2          |\n",
    "| 132       | Kalypso    | 2020-11-02 | 2021-05-04 | 2          |"
   ]
  },
  {
   "cell_type": "markdown",
   "metadata": {},
   "source": [
    "# Data Acquired with Wrangle.py Module\n",
    "- will need the txt file downloaded in working directory\n",
    "    - anonymized-curriculum-access.txt\n",
    "- reads txt file, renames columns, sets date to index, and returns the cleaned df"
   ]
  },
  {
   "cell_type": "code",
   "execution_count": 1,
   "metadata": {},
   "outputs": [],
   "source": [
    "import pandas as pd\n",
    "import numpy as np\n",
    "import matplotlib.pyplot as plt\n",
    "import seaborn as sns\n",
    "\n",
    "import Wrangle"
   ]
  },
  {
   "cell_type": "code",
   "execution_count": 2,
   "metadata": {},
   "outputs": [],
   "source": [
    "df = Wrangle.acquire_logs()"
   ]
  },
  {
   "cell_type": "code",
   "execution_count": 3,
   "metadata": {},
   "outputs": [
    {
     "data": {
      "text/html": [
       "<div>\n",
       "<style scoped>\n",
       "    .dataframe tbody tr th:only-of-type {\n",
       "        vertical-align: middle;\n",
       "    }\n",
       "\n",
       "    .dataframe tbody tr th {\n",
       "        vertical-align: top;\n",
       "    }\n",
       "\n",
       "    .dataframe thead th {\n",
       "        text-align: right;\n",
       "    }\n",
       "</style>\n",
       "<table border=\"1\" class=\"dataframe\">\n",
       "  <thead>\n",
       "    <tr style=\"text-align: right;\">\n",
       "      <th></th>\n",
       "      <th>page_viewed</th>\n",
       "      <th>user_id</th>\n",
       "      <th>cohort_id</th>\n",
       "      <th>ip</th>\n",
       "    </tr>\n",
       "  </thead>\n",
       "  <tbody>\n",
       "    <tr>\n",
       "      <th>2018-01-26 09:55:03</th>\n",
       "      <td>/</td>\n",
       "      <td>1</td>\n",
       "      <td>8.0</td>\n",
       "      <td>97.105.19.61</td>\n",
       "    </tr>\n",
       "    <tr>\n",
       "      <th>2018-01-26 09:56:02</th>\n",
       "      <td>java-ii</td>\n",
       "      <td>1</td>\n",
       "      <td>8.0</td>\n",
       "      <td>97.105.19.61</td>\n",
       "    </tr>\n",
       "    <tr>\n",
       "      <th>2018-01-26 09:56:05</th>\n",
       "      <td>java-ii/object-oriented-programming</td>\n",
       "      <td>1</td>\n",
       "      <td>8.0</td>\n",
       "      <td>97.105.19.61</td>\n",
       "    </tr>\n",
       "    <tr>\n",
       "      <th>2018-01-26 09:56:06</th>\n",
       "      <td>slides/object_oriented_programming</td>\n",
       "      <td>1</td>\n",
       "      <td>8.0</td>\n",
       "      <td>97.105.19.61</td>\n",
       "    </tr>\n",
       "    <tr>\n",
       "      <th>2018-01-26 09:56:24</th>\n",
       "      <td>javascript-i/conditionals</td>\n",
       "      <td>2</td>\n",
       "      <td>22.0</td>\n",
       "      <td>97.105.19.61</td>\n",
       "    </tr>\n",
       "    <tr>\n",
       "      <th>...</th>\n",
       "      <td>...</td>\n",
       "      <td>...</td>\n",
       "      <td>...</td>\n",
       "      <td>...</td>\n",
       "    </tr>\n",
       "    <tr>\n",
       "      <th>2020-11-02 16:48:13</th>\n",
       "      <td>javascript-i/coffee-project</td>\n",
       "      <td>763</td>\n",
       "      <td>62.0</td>\n",
       "      <td>107.192.148.199</td>\n",
       "    </tr>\n",
       "    <tr>\n",
       "      <th>2020-11-02 16:48:17</th>\n",
       "      <td>javascript-i/mapbox-api</td>\n",
       "      <td>771</td>\n",
       "      <td>62.0</td>\n",
       "      <td>172.125.226.175</td>\n",
       "    </tr>\n",
       "    <tr>\n",
       "      <th>2020-11-02 16:48:18</th>\n",
       "      <td>javascript-i/coffee-project</td>\n",
       "      <td>771</td>\n",
       "      <td>62.0</td>\n",
       "      <td>172.125.226.175</td>\n",
       "    </tr>\n",
       "    <tr>\n",
       "      <th>2020-11-02 16:48:28</th>\n",
       "      <td>javascript-i/bom-and-dom/bom</td>\n",
       "      <td>771</td>\n",
       "      <td>62.0</td>\n",
       "      <td>172.125.226.175</td>\n",
       "    </tr>\n",
       "    <tr>\n",
       "      <th>2020-11-02 16:48:47</th>\n",
       "      <td>javascript-i/bom-and-dom/bom</td>\n",
       "      <td>763</td>\n",
       "      <td>62.0</td>\n",
       "      <td>107.192.148.199</td>\n",
       "    </tr>\n",
       "  </tbody>\n",
       "</table>\n",
       "<p>719459 rows × 4 columns</p>\n",
       "</div>"
      ],
      "text/plain": [
       "                                             page_viewed  user_id  cohort_id  \\\n",
       "2018-01-26 09:55:03                                    /        1        8.0   \n",
       "2018-01-26 09:56:02                              java-ii        1        8.0   \n",
       "2018-01-26 09:56:05  java-ii/object-oriented-programming        1        8.0   \n",
       "2018-01-26 09:56:06   slides/object_oriented_programming        1        8.0   \n",
       "2018-01-26 09:56:24            javascript-i/conditionals        2       22.0   \n",
       "...                                                  ...      ...        ...   \n",
       "2020-11-02 16:48:13          javascript-i/coffee-project      763       62.0   \n",
       "2020-11-02 16:48:17              javascript-i/mapbox-api      771       62.0   \n",
       "2020-11-02 16:48:18          javascript-i/coffee-project      771       62.0   \n",
       "2020-11-02 16:48:28         javascript-i/bom-and-dom/bom      771       62.0   \n",
       "2020-11-02 16:48:47         javascript-i/bom-and-dom/bom      763       62.0   \n",
       "\n",
       "                                  ip  \n",
       "2018-01-26 09:55:03     97.105.19.61  \n",
       "2018-01-26 09:56:02     97.105.19.61  \n",
       "2018-01-26 09:56:05     97.105.19.61  \n",
       "2018-01-26 09:56:06     97.105.19.61  \n",
       "2018-01-26 09:56:24     97.105.19.61  \n",
       "...                              ...  \n",
       "2020-11-02 16:48:13  107.192.148.199  \n",
       "2020-11-02 16:48:17  172.125.226.175  \n",
       "2020-11-02 16:48:18  172.125.226.175  \n",
       "2020-11-02 16:48:28  172.125.226.175  \n",
       "2020-11-02 16:48:47  107.192.148.199  \n",
       "\n",
       "[719459 rows x 4 columns]"
      ]
     },
     "execution_count": 3,
     "metadata": {},
     "output_type": "execute_result"
    }
   ],
   "source": [
    "df"
   ]
  },
  {
   "cell_type": "code",
   "execution_count": 16,
   "metadata": {},
   "outputs": [],
   "source": [
    "# creating a dataframe of only Data Science Cohorts, any cohort with program id of 3\n",
    "DS_df = df[(df.cohort_id == 30) | (df.cohort_id == 34) | (df.cohort_id == 55) | (df.cohort_id == 59)]"
   ]
  },
  {
   "cell_type": "code",
   "execution_count": 18,
   "metadata": {},
   "outputs": [
    {
     "data": {
      "text/html": [
       "<div>\n",
       "<style scoped>\n",
       "    .dataframe tbody tr th:only-of-type {\n",
       "        vertical-align: middle;\n",
       "    }\n",
       "\n",
       "    .dataframe tbody tr th {\n",
       "        vertical-align: top;\n",
       "    }\n",
       "\n",
       "    .dataframe thead th {\n",
       "        text-align: right;\n",
       "    }\n",
       "</style>\n",
       "<table border=\"1\" class=\"dataframe\">\n",
       "  <thead>\n",
       "    <tr style=\"text-align: right;\">\n",
       "      <th></th>\n",
       "      <th>page_viewed</th>\n",
       "      <th>user_id</th>\n",
       "      <th>cohort_id</th>\n",
       "      <th>ip</th>\n",
       "    </tr>\n",
       "  </thead>\n",
       "  <tbody>\n",
       "    <tr>\n",
       "      <th>2019-08-20 09:39:58</th>\n",
       "      <td>/</td>\n",
       "      <td>466</td>\n",
       "      <td>34.0</td>\n",
       "      <td>97.105.19.58</td>\n",
       "    </tr>\n",
       "    <tr>\n",
       "      <th>2019-08-20 09:39:59</th>\n",
       "      <td>/</td>\n",
       "      <td>467</td>\n",
       "      <td>34.0</td>\n",
       "      <td>97.105.19.58</td>\n",
       "    </tr>\n",
       "    <tr>\n",
       "      <th>2019-08-20 09:39:59</th>\n",
       "      <td>/</td>\n",
       "      <td>468</td>\n",
       "      <td>34.0</td>\n",
       "      <td>97.105.19.58</td>\n",
       "    </tr>\n",
       "    <tr>\n",
       "      <th>2019-08-20 09:40:02</th>\n",
       "      <td>/</td>\n",
       "      <td>469</td>\n",
       "      <td>34.0</td>\n",
       "      <td>97.105.19.58</td>\n",
       "    </tr>\n",
       "    <tr>\n",
       "      <th>2019-08-20 09:40:08</th>\n",
       "      <td>/</td>\n",
       "      <td>470</td>\n",
       "      <td>34.0</td>\n",
       "      <td>97.105.19.58</td>\n",
       "    </tr>\n",
       "    <tr>\n",
       "      <th>...</th>\n",
       "      <td>...</td>\n",
       "      <td>...</td>\n",
       "      <td>...</td>\n",
       "      <td>...</td>\n",
       "    </tr>\n",
       "    <tr>\n",
       "      <th>2020-11-02 15:50:07</th>\n",
       "      <td>appendix/open_data</td>\n",
       "      <td>698</td>\n",
       "      <td>59.0</td>\n",
       "      <td>24.28.150.196</td>\n",
       "    </tr>\n",
       "    <tr>\n",
       "      <th>2020-11-02 15:52:23</th>\n",
       "      <td>timeseries/sarimax</td>\n",
       "      <td>698</td>\n",
       "      <td>59.0</td>\n",
       "      <td>24.28.150.196</td>\n",
       "    </tr>\n",
       "    <tr>\n",
       "      <th>2020-11-02 15:57:22</th>\n",
       "      <td>/</td>\n",
       "      <td>616</td>\n",
       "      <td>55.0</td>\n",
       "      <td>70.114.9.241</td>\n",
       "    </tr>\n",
       "    <tr>\n",
       "      <th>2020-11-02 15:57:25</th>\n",
       "      <td>search/search_index.json</td>\n",
       "      <td>616</td>\n",
       "      <td>55.0</td>\n",
       "      <td>70.114.9.241</td>\n",
       "    </tr>\n",
       "    <tr>\n",
       "      <th>2020-11-02 15:57:29</th>\n",
       "      <td>fundamentals/git</td>\n",
       "      <td>616</td>\n",
       "      <td>55.0</td>\n",
       "      <td>70.114.9.241</td>\n",
       "    </tr>\n",
       "  </tbody>\n",
       "</table>\n",
       "<p>68017 rows × 4 columns</p>\n",
       "</div>"
      ],
      "text/plain": [
       "                                  page_viewed  user_id  cohort_id  \\\n",
       "2019-08-20 09:39:58                         /      466       34.0   \n",
       "2019-08-20 09:39:59                         /      467       34.0   \n",
       "2019-08-20 09:39:59                         /      468       34.0   \n",
       "2019-08-20 09:40:02                         /      469       34.0   \n",
       "2019-08-20 09:40:08                         /      470       34.0   \n",
       "...                                       ...      ...        ...   \n",
       "2020-11-02 15:50:07        appendix/open_data      698       59.0   \n",
       "2020-11-02 15:52:23        timeseries/sarimax      698       59.0   \n",
       "2020-11-02 15:57:22                         /      616       55.0   \n",
       "2020-11-02 15:57:25  search/search_index.json      616       55.0   \n",
       "2020-11-02 15:57:29          fundamentals/git      616       55.0   \n",
       "\n",
       "                                ip  \n",
       "2019-08-20 09:39:58   97.105.19.58  \n",
       "2019-08-20 09:39:59   97.105.19.58  \n",
       "2019-08-20 09:39:59   97.105.19.58  \n",
       "2019-08-20 09:40:02   97.105.19.58  \n",
       "2019-08-20 09:40:08   97.105.19.58  \n",
       "...                            ...  \n",
       "2020-11-02 15:50:07  24.28.150.196  \n",
       "2020-11-02 15:52:23  24.28.150.196  \n",
       "2020-11-02 15:57:22   70.114.9.241  \n",
       "2020-11-02 15:57:25   70.114.9.241  \n",
       "2020-11-02 15:57:29   70.114.9.241  \n",
       "\n",
       "[68017 rows x 4 columns]"
      ]
     },
     "execution_count": 18,
     "metadata": {},
     "output_type": "execute_result"
    }
   ],
   "source": [
    "DS_df"
   ]
  },
  {
   "cell_type": "code",
   "execution_count": 17,
   "metadata": {},
   "outputs": [],
   "source": [
    "# creating a dataframe of only Web Dev Cohorts, any cohort not DS or Staff\n",
    "WB_df = df[(df.cohort_id != 28) |(df.cohort_id != 30) | (df.cohort_id != 34) | (df.cohort_id != 55) | (df.cohort_id != 59)]"
   ]
  },
  {
   "cell_type": "code",
   "execution_count": 19,
   "metadata": {},
   "outputs": [
    {
     "data": {
      "text/html": [
       "<div>\n",
       "<style scoped>\n",
       "    .dataframe tbody tr th:only-of-type {\n",
       "        vertical-align: middle;\n",
       "    }\n",
       "\n",
       "    .dataframe tbody tr th {\n",
       "        vertical-align: top;\n",
       "    }\n",
       "\n",
       "    .dataframe thead th {\n",
       "        text-align: right;\n",
       "    }\n",
       "</style>\n",
       "<table border=\"1\" class=\"dataframe\">\n",
       "  <thead>\n",
       "    <tr style=\"text-align: right;\">\n",
       "      <th></th>\n",
       "      <th>page_viewed</th>\n",
       "      <th>user_id</th>\n",
       "      <th>cohort_id</th>\n",
       "      <th>ip</th>\n",
       "    </tr>\n",
       "  </thead>\n",
       "  <tbody>\n",
       "    <tr>\n",
       "      <th>2018-01-26 09:55:03</th>\n",
       "      <td>/</td>\n",
       "      <td>1</td>\n",
       "      <td>8.0</td>\n",
       "      <td>97.105.19.61</td>\n",
       "    </tr>\n",
       "    <tr>\n",
       "      <th>2018-01-26 09:56:02</th>\n",
       "      <td>java-ii</td>\n",
       "      <td>1</td>\n",
       "      <td>8.0</td>\n",
       "      <td>97.105.19.61</td>\n",
       "    </tr>\n",
       "    <tr>\n",
       "      <th>2018-01-26 09:56:05</th>\n",
       "      <td>java-ii/object-oriented-programming</td>\n",
       "      <td>1</td>\n",
       "      <td>8.0</td>\n",
       "      <td>97.105.19.61</td>\n",
       "    </tr>\n",
       "    <tr>\n",
       "      <th>2018-01-26 09:56:06</th>\n",
       "      <td>slides/object_oriented_programming</td>\n",
       "      <td>1</td>\n",
       "      <td>8.0</td>\n",
       "      <td>97.105.19.61</td>\n",
       "    </tr>\n",
       "    <tr>\n",
       "      <th>2018-01-26 09:56:24</th>\n",
       "      <td>javascript-i/conditionals</td>\n",
       "      <td>2</td>\n",
       "      <td>22.0</td>\n",
       "      <td>97.105.19.61</td>\n",
       "    </tr>\n",
       "    <tr>\n",
       "      <th>...</th>\n",
       "      <td>...</td>\n",
       "      <td>...</td>\n",
       "      <td>...</td>\n",
       "      <td>...</td>\n",
       "    </tr>\n",
       "    <tr>\n",
       "      <th>2020-11-02 16:48:13</th>\n",
       "      <td>javascript-i/coffee-project</td>\n",
       "      <td>763</td>\n",
       "      <td>62.0</td>\n",
       "      <td>107.192.148.199</td>\n",
       "    </tr>\n",
       "    <tr>\n",
       "      <th>2020-11-02 16:48:17</th>\n",
       "      <td>javascript-i/mapbox-api</td>\n",
       "      <td>771</td>\n",
       "      <td>62.0</td>\n",
       "      <td>172.125.226.175</td>\n",
       "    </tr>\n",
       "    <tr>\n",
       "      <th>2020-11-02 16:48:18</th>\n",
       "      <td>javascript-i/coffee-project</td>\n",
       "      <td>771</td>\n",
       "      <td>62.0</td>\n",
       "      <td>172.125.226.175</td>\n",
       "    </tr>\n",
       "    <tr>\n",
       "      <th>2020-11-02 16:48:28</th>\n",
       "      <td>javascript-i/bom-and-dom/bom</td>\n",
       "      <td>771</td>\n",
       "      <td>62.0</td>\n",
       "      <td>172.125.226.175</td>\n",
       "    </tr>\n",
       "    <tr>\n",
       "      <th>2020-11-02 16:48:47</th>\n",
       "      <td>javascript-i/bom-and-dom/bom</td>\n",
       "      <td>763</td>\n",
       "      <td>62.0</td>\n",
       "      <td>107.192.148.199</td>\n",
       "    </tr>\n",
       "  </tbody>\n",
       "</table>\n",
       "<p>719459 rows × 4 columns</p>\n",
       "</div>"
      ],
      "text/plain": [
       "                                             page_viewed  user_id  cohort_id  \\\n",
       "2018-01-26 09:55:03                                    /        1        8.0   \n",
       "2018-01-26 09:56:02                              java-ii        1        8.0   \n",
       "2018-01-26 09:56:05  java-ii/object-oriented-programming        1        8.0   \n",
       "2018-01-26 09:56:06   slides/object_oriented_programming        1        8.0   \n",
       "2018-01-26 09:56:24            javascript-i/conditionals        2       22.0   \n",
       "...                                                  ...      ...        ...   \n",
       "2020-11-02 16:48:13          javascript-i/coffee-project      763       62.0   \n",
       "2020-11-02 16:48:17              javascript-i/mapbox-api      771       62.0   \n",
       "2020-11-02 16:48:18          javascript-i/coffee-project      771       62.0   \n",
       "2020-11-02 16:48:28         javascript-i/bom-and-dom/bom      771       62.0   \n",
       "2020-11-02 16:48:47         javascript-i/bom-and-dom/bom      763       62.0   \n",
       "\n",
       "                                  ip  \n",
       "2018-01-26 09:55:03     97.105.19.61  \n",
       "2018-01-26 09:56:02     97.105.19.61  \n",
       "2018-01-26 09:56:05     97.105.19.61  \n",
       "2018-01-26 09:56:06     97.105.19.61  \n",
       "2018-01-26 09:56:24     97.105.19.61  \n",
       "...                              ...  \n",
       "2020-11-02 16:48:13  107.192.148.199  \n",
       "2020-11-02 16:48:17  172.125.226.175  \n",
       "2020-11-02 16:48:18  172.125.226.175  \n",
       "2020-11-02 16:48:28  172.125.226.175  \n",
       "2020-11-02 16:48:47  107.192.148.199  \n",
       "\n",
       "[719459 rows x 4 columns]"
      ]
     },
     "execution_count": 19,
     "metadata": {},
     "output_type": "execute_result"
    }
   ],
   "source": [
    "WB_df"
   ]
  },
  {
   "cell_type": "markdown",
   "metadata": {},
   "source": [
    "# Questions to Determine"
   ]
  },
  {
   "cell_type": "markdown",
   "metadata": {},
   "source": [
    "#### Which lesson appears to attract the most traffic consistently across cohorts (per program)? <a class=\"anchor\" id=\"first-bullet\"></a>"
   ]
  },
  {
   "cell_type": "code",
   "execution_count": 39,
   "metadata": {
    "scrolled": true
   },
   "outputs": [
    {
     "data": {
      "text/plain": [
       "/                                           5406\n",
       "1-fundamentals/modern-data-scientist.jpg    1563\n",
       "1-fundamentals/AI-ML-DL-timeline.jpg        1559\n",
       "1-fundamentals/1.1-intro-to-data-science    1536\n",
       "search/search_index.json                    1331\n",
       "                                            ... \n",
       "mkdocs/search_index.json                       1\n",
       "classification/handling-missing-values         1\n",
       "12-distributed-ml/8.1-classification           1\n",
       "12-distributed-ml/4-acquire                    1\n",
       "appendix/git/intellij                          1\n",
       "Name: page_viewed, Length: 596, dtype: int64"
      ]
     },
     "execution_count": 39,
     "metadata": {},
     "output_type": "execute_result"
    }
   ],
   "source": [
    "DS_df.page_viewed.value_counts()"
   ]
  },
  {
   "cell_type": "code",
   "execution_count": 50,
   "metadata": {},
   "outputs": [
    {
     "data": {
      "text/plain": [
       "<matplotlib.axes._subplots.AxesSubplot at 0x7fd2fba95f50>"
      ]
     },
     "execution_count": 50,
     "metadata": {},
     "output_type": "execute_result"
    },
    {
     "data": {
      "image/png": "[encoded data removed]",
      "text/plain": [
       "<Figure size 432x288 with 1 Axes>"
      ]
     },
     "metadata": {
      "needs_background": "light"
     },
     "output_type": "display_data"
    }
   ],
   "source": [
    "sns.scatterplot(x=DS_df.cohort_id, y=DS_df.page_viewed)"
   ]
  },
  {
   "cell_type": "markdown",
   "metadata": {},
   "source": [
    "#### Is there a cohort that referred to a lesson significantly more that other cohorts seemed to gloss over? <a class=\"anchor\" id=\"second-bullet\"></a>"
   ]
  },
  {
   "cell_type": "code",
   "execution_count": null,
   "metadata": {},
   "outputs": [],
   "source": []
  },
  {
   "cell_type": "markdown",
   "metadata": {},
   "source": [
    "#### Are there students who, when active, hardly access the curriculum? If so, what information do you have about these students? <a class=\"anchor\" id=\"third-bullet\"></a>"
   ]
  },
  {
   "cell_type": "code",
   "execution_count": null,
   "metadata": {},
   "outputs": [],
   "source": []
  },
  {
   "cell_type": "markdown",
   "metadata": {},
   "source": [
    "#### Is there any suspicious activity, such as users/machines/etc accessing the curriculum who shouldn’t be? Does it appear that any web-scraping is happening? Are there any suspicious IP addresses? Any odd user-agents? <a class=\"anchor\" id=\"fourth-bullet\"></a>"
   ]
  },
  {
   "cell_type": "code",
   "execution_count": null,
   "metadata": {},
   "outputs": [],
   "source": []
  },
  {
   "cell_type": "markdown",
   "metadata": {},
   "source": [
    "#### At some point in the last year, ability for students and alumni to cross-access curriculum (web dev to ds, ds to web dev) should have been shut off. Do you see any evidence of that happening? Did it happen before? <a class=\"anchor\" id=\"fifth-bullet\"></a>"
   ]
  },
  {
   "cell_type": "code",
   "execution_count": null,
   "metadata": {},
   "outputs": [],
   "source": []
  },
  {
   "cell_type": "markdown",
   "metadata": {},
   "source": [
    "#### What topics are grads continuing to reference after graduation and into their jobs (for each program)? <a class=\"anchor\" id=\"sixth-bullet\"></a>"
   ]
  },
  {
   "cell_type": "code",
   "execution_count": null,
   "metadata": {},
   "outputs": [],
   "source": []
  },
  {
   "cell_type": "markdown",
   "metadata": {},
   "source": [
    "#### Which lessons are least accessed? <a class=\"anchor\" id=\"seventh-bullet\"></a>"
   ]
  },
  {
   "cell_type": "code",
   "execution_count": null,
   "metadata": {},
   "outputs": [],
   "source": []
  }
 ],
 "metadata": {
  "kernelspec": {
   "display_name": "Python 3",
   "language": "python",
   "name": "python3"
  },
  "language_info": {
   "codemirror_mode": {
    "name": "ipython",
    "version": 3
   },
   "file_extension": ".py",
   "mimetype": "text/x-python",
   "name": "python",
   "nbconvert_exporter": "python",
   "pygments_lexer": "ipython3",
   "version": "3.7.6"
  }
 },
 "nbformat": 4,
 "nbformat_minor": 4
}
