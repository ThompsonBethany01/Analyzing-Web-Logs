{
 "cells": [
  {
   "cell_type": "markdown",
   "metadata": {},
   "source": [
    "# Analyzing Web Logs of Web Development and Data Science Curriculum\n",
    "Using Time Series Analysis to Determine \n",
    "- Anomalies in User Curriculumn Access\n",
    "- General Trends in User Curriculumn Access"
   ]
  },
  {
   "cell_type": "markdown",
   "metadata": {},
   "source": [
    "### Table of Contents<a class=\"anchor\" id=\"top-bullet\"></a>\n",
    "- [Which lesson appears to attract the most traffic consistently across cohorts (per program)?](#first-bullet)\n",
    "- [Is there a cohort that referred to a lesson significantly more that other cohorts seemed to gloss over?](#second-bullet)\n",
    "- [Are there students who, when active, hardly access the curriculum? If so, what information do you have about these students?](#third-bullet)\n",
    "- [Is there any suspicious activity, such as users/machines/etc accessing the curriculum who shouldn’t be? Does it appear that any web-scraping is happening? Are there any suspicious IP addresses? Any odd user-agents?](#fourth-bullet)\n",
    "- [At some point in the last year, ability for students and alumni to cross-access curriculum (web dev to ds, ds to web dev) should have been shut off. Do you see any evidence of that happening? Did it happen before?](#fifth-bullet)\n",
    "- [What topics are grads continuing to reference after graduation and into their jobs (for each program)?](#sixth-bullet)\n",
    "- [Which lessons are least accessed?](#seventh-bullet)\n",
    "- [Final Conclusions](#eight-bullet)"
   ]
  },
  {
   "cell_type": "markdown",
   "metadata": {},
   "source": [
    "### Reference for Cohort Id's\n",
    "| cohort_id | name       | start_date | end_date   | program_id |\n",
    "|-----------|------------|------------|------------|------------|\n",
    "| 1         | Arches     | 2014-02-04 | 2014-04-22 | 1          |\n",
    "| 2         | Badlands   | 2014-06-04 | 2014-08-22 | 1          |\n",
    "| 3         | Carlsbad   | 2014-09-04 | 2014-11-05 | 1          |\n",
    "| 4         | Denali     | 2014-10-20 | 2015-01-18 | 1          |\n",
    "| 5         | Everglades | 2014-11-18 | 2015-02-24 | 1          |\n",
    "| 6         | Franklin   | 2015-02-03 | 2015-05-26 | 1          |\n",
    "| 7         | Glacier    | 2015-06-05 | 2015-10-06 | 1          |\n",
    "| 8         | Hampton    | 2015-09-22 | 2016-02-06 | 1          |\n",
    "| 9         | Apollo     | 2015-03-30 | 2015-07-29 | 4          |\n",
    "| 10        | Balboa     | 2015-11-03 | 2016-03-11 | 4          |\n",
    "| 11        | Ike        | 2016-01-20 | 2016-05-12 | 1          |\n",
    "| 12        | Joshua     | 2016-03-08 | 2016-06-30 | 1          |\n",
    "| 13        | Kings      | 2016-05-23 | 2016-09-15 | 1          |\n",
    "| 14        | Lassen     | 2016-07-18 | 2016-11-10 | 1          |\n",
    "| 15        | Mammoth    | 2016-09-26 | 2017-02-02 | 2          |\n",
    "| 16        | Niagara    | 2016-10-26 | 2017-03-09 | 2          |\n",
    "| 17        | Olympic    | 2017-02-06 | 2017-05-25 | 1          |\n",
    "| 18        | Pinnacles  | 2017-03-27 | 2017-07-20 | 2          |\n",
    "| 19        | Quincy     | 2017-06-05 | 2017-09-22 | 1          |\n",
    "| 20        | Redwood    | 2017-07-31 | 2017-12-06 | 2          |\n",
    "| 21        | Sequoia    | 2017-09-27 | 2018-02-15 | 2          |\n",
    "| 22        | Teddy      | 2018-01-08 | 2018-05-17 | 2          |\n",
    "| 23        | Ulysses    | 2018-03-05 | 2018-07-19 | 2          |\n",
    "| 24        | Voyageurs  | 2018-05-29 | 2018-10-11 | 2          |\n",
    "| 25        | Wrangell   | 2018-07-23 | 2018-11-29 | 2          |\n",
    "| 26        | Xanadu     | 2018-09-17 | 2019-02-08 | 2          |\n",
    "| 27        | Yosemite   | 2018-11-05 | 2019-04-03 | 2          |\n",
    "| 28        | Staff      | 2014-02-04 | 2014-02-04 | 2          |\n",
    "| 29        | Zion       | 2019-01-22 | 2019-06-04 | 2          |\n",
    "| 30        | Ada        | 2019-02-04 | 2019-06-16 | 3          |\n",
    "| 31        | Andromeda  | 2019-03-18 | 2019-07-30 | 2          |\n",
    "| 32        | Betelgeuse | 2019-05-28 | 2019-10-08 | 2          |\n",
    "| 33        | Ceres      | 2019-07-15 | 2019-12-11 | 2          |\n",
    "| 34        | Bayes      | 2019-08-19 | 2020-01-30 | 3          |\n",
    "| 51        | Deimos     | 2019-09-16 | 2020-02-27 | 2          |\n",
    "| 52        | Europa     | 2019-11-04 | 2020-04-17 | 2          |\n",
    "| 53        | Fortuna    | 2020-01-13 | 2020-06-23 | 2          |\n",
    "| 55        | Curie      | 2020-02-03 | 2020-07-07 | 3          |\n",
    "| 56        | Apex       | 2020-02-24 | 2020-07-29 | 2          |\n",
    "| 57        | Ganymede   | 2020-03-23 | 2020-08-20 | 2          |\n",
    "| 58        | Hyperion   | 2020-05-26 | 2020-11-10 | 2          |\n",
    "| 59        | Darden     | 2020-07-13 | 2021-01-12 | 3          |\n",
    "| 60        | Io         | 2020-07-20 | 2021-01-21 | 2          |\n",
    "| 61        | Bash       | 2020-07-20 | 2021-01-21 | 2          |\n",
    "| 62        | Jupiter    | 2020-09-21 | 2021-03-30 | 2          |\n",
    "| 132       | Kalypso    | 2020-11-02 | 2021-05-04 | 2          |\n",
    "| 0         | Unknown    |            |            |            |"
   ]
  },
  {
   "cell_type": "markdown",
   "metadata": {},
   "source": [
    "# Data Acquired with Wrangle.py Module\n",
    "- will need the txt file downloaded in working directory\n",
    "    - anonymized-curriculum-access.txt\n",
    "- reads txt file, renames columns, sets date to index, and returns the cleaned df"
   ]
  },
  {
   "cell_type": "code",
   "execution_count": 1,
   "metadata": {},
   "outputs": [],
   "source": [
    "import pandas as pd\n",
    "import numpy as np\n",
    "import matplotlib.pyplot as plt\n",
    "import seaborn as sns\n",
    "\n",
    "import Wrangle"
   ]
  },
  {
   "cell_type": "code",
   "execution_count": 2,
   "metadata": {},
   "outputs": [],
   "source": [
    "df = Wrangle.acquire_logs()"
   ]
  },
  {
   "cell_type": "code",
   "execution_count": 3,
   "metadata": {},
   "outputs": [
    {
     "data": {
      "text/html": [
       "<div>\n",
       "<style scoped>\n",
       "    .dataframe tbody tr th:only-of-type {\n",
       "        vertical-align: middle;\n",
       "    }\n",
       "\n",
       "    .dataframe tbody tr th {\n",
       "        vertical-align: top;\n",
       "    }\n",
       "\n",
       "    .dataframe thead th {\n",
       "        text-align: right;\n",
       "    }\n",
       "</style>\n",
       "<table border=\"1\" class=\"dataframe\">\n",
       "  <thead>\n",
       "    <tr style=\"text-align: right;\">\n",
       "      <th></th>\n",
       "      <th>page_viewed</th>\n",
       "      <th>user_id</th>\n",
       "      <th>cohort_id</th>\n",
       "      <th>ip</th>\n",
       "      <th>ip_int</th>\n",
       "    </tr>\n",
       "  </thead>\n",
       "  <tbody>\n",
       "    <tr>\n",
       "      <th>2018-01-26 09:56:02</th>\n",
       "      <td>java-ii</td>\n",
       "      <td>1</td>\n",
       "      <td>8</td>\n",
       "      <td>97.105.19.61</td>\n",
       "      <td>971051961</td>\n",
       "    </tr>\n",
       "    <tr>\n",
       "      <th>2018-01-26 09:56:05</th>\n",
       "      <td>java-ii/object-oriented-programming</td>\n",
       "      <td>1</td>\n",
       "      <td>8</td>\n",
       "      <td>97.105.19.61</td>\n",
       "      <td>971051961</td>\n",
       "    </tr>\n",
       "    <tr>\n",
       "      <th>2018-01-26 09:56:06</th>\n",
       "      <td>slides/object_oriented_programming</td>\n",
       "      <td>1</td>\n",
       "      <td>8</td>\n",
       "      <td>97.105.19.61</td>\n",
       "      <td>971051961</td>\n",
       "    </tr>\n",
       "    <tr>\n",
       "      <th>2018-01-26 09:56:24</th>\n",
       "      <td>javascript-i/conditionals</td>\n",
       "      <td>2</td>\n",
       "      <td>22</td>\n",
       "      <td>97.105.19.61</td>\n",
       "      <td>971051961</td>\n",
       "    </tr>\n",
       "    <tr>\n",
       "      <th>2018-01-26 09:56:41</th>\n",
       "      <td>javascript-i/loops</td>\n",
       "      <td>2</td>\n",
       "      <td>22</td>\n",
       "      <td>97.105.19.61</td>\n",
       "      <td>971051961</td>\n",
       "    </tr>\n",
       "    <tr>\n",
       "      <th>...</th>\n",
       "      <td>...</td>\n",
       "      <td>...</td>\n",
       "      <td>...</td>\n",
       "      <td>...</td>\n",
       "      <td>...</td>\n",
       "    </tr>\n",
       "    <tr>\n",
       "      <th>2020-11-02 16:48:13</th>\n",
       "      <td>javascript-i/coffee-project</td>\n",
       "      <td>763</td>\n",
       "      <td>62</td>\n",
       "      <td>107.192.148.199</td>\n",
       "      <td>107192148199</td>\n",
       "    </tr>\n",
       "    <tr>\n",
       "      <th>2020-11-02 16:48:17</th>\n",
       "      <td>javascript-i/mapbox-api</td>\n",
       "      <td>771</td>\n",
       "      <td>62</td>\n",
       "      <td>172.125.226.175</td>\n",
       "      <td>172125226175</td>\n",
       "    </tr>\n",
       "    <tr>\n",
       "      <th>2020-11-02 16:48:18</th>\n",
       "      <td>javascript-i/coffee-project</td>\n",
       "      <td>771</td>\n",
       "      <td>62</td>\n",
       "      <td>172.125.226.175</td>\n",
       "      <td>172125226175</td>\n",
       "    </tr>\n",
       "    <tr>\n",
       "      <th>2020-11-02 16:48:28</th>\n",
       "      <td>javascript-i/bom-and-dom/bom</td>\n",
       "      <td>771</td>\n",
       "      <td>62</td>\n",
       "      <td>172.125.226.175</td>\n",
       "      <td>172125226175</td>\n",
       "    </tr>\n",
       "    <tr>\n",
       "      <th>2020-11-02 16:48:47</th>\n",
       "      <td>javascript-i/bom-and-dom/bom</td>\n",
       "      <td>763</td>\n",
       "      <td>62</td>\n",
       "      <td>107.192.148.199</td>\n",
       "      <td>107192148199</td>\n",
       "    </tr>\n",
       "  </tbody>\n",
       "</table>\n",
       "<p>607165 rows × 5 columns</p>\n",
       "</div>"
      ],
      "text/plain": [
       "                                             page_viewed  user_id  cohort_id  \\\n",
       "2018-01-26 09:56:02                              java-ii        1          8   \n",
       "2018-01-26 09:56:05  java-ii/object-oriented-programming        1          8   \n",
       "2018-01-26 09:56:06   slides/object_oriented_programming        1          8   \n",
       "2018-01-26 09:56:24            javascript-i/conditionals        2         22   \n",
       "2018-01-26 09:56:41                   javascript-i/loops        2         22   \n",
       "...                                                  ...      ...        ...   \n",
       "2020-11-02 16:48:13          javascript-i/coffee-project      763         62   \n",
       "2020-11-02 16:48:17              javascript-i/mapbox-api      771         62   \n",
       "2020-11-02 16:48:18          javascript-i/coffee-project      771         62   \n",
       "2020-11-02 16:48:28         javascript-i/bom-and-dom/bom      771         62   \n",
       "2020-11-02 16:48:47         javascript-i/bom-and-dom/bom      763         62   \n",
       "\n",
       "                                  ip        ip_int  \n",
       "2018-01-26 09:56:02     97.105.19.61     971051961  \n",
       "2018-01-26 09:56:05     97.105.19.61     971051961  \n",
       "2018-01-26 09:56:06     97.105.19.61     971051961  \n",
       "2018-01-26 09:56:24     97.105.19.61     971051961  \n",
       "2018-01-26 09:56:41     97.105.19.61     971051961  \n",
       "...                              ...           ...  \n",
       "2020-11-02 16:48:13  107.192.148.199  107192148199  \n",
       "2020-11-02 16:48:17  172.125.226.175  172125226175  \n",
       "2020-11-02 16:48:18  172.125.226.175  172125226175  \n",
       "2020-11-02 16:48:28  172.125.226.175  172125226175  \n",
       "2020-11-02 16:48:47  107.192.148.199  107192148199  \n",
       "\n",
       "[607165 rows x 5 columns]"
      ]
     },
     "execution_count": 3,
     "metadata": {},
     "output_type": "execute_result"
    }
   ],
   "source": [
    "df"
   ]
  },
  {
   "cell_type": "code",
   "execution_count": 4,
   "metadata": {},
   "outputs": [],
   "source": [
    "# creating a dataframe of only Data Science Cohorts, any cohort with program id of 3\n",
    "DS_df = df[(df.cohort_id == 30) | (df.cohort_id == 34) | (df.cohort_id == 55) | (df.cohort_id == 59)]"
   ]
  },
  {
   "cell_type": "code",
   "execution_count": 5,
   "metadata": {},
   "outputs": [
    {
     "data": {
      "text/plain": [
       "34    19416\n",
       "59    17323\n",
       "55    15534\n",
       "Name: cohort_id, dtype: int64"
      ]
     },
     "execution_count": 5,
     "metadata": {},
     "output_type": "execute_result"
    }
   ],
   "source": [
    "DS_df.cohort_id.value_counts()"
   ]
  },
  {
   "cell_type": "code",
   "execution_count": 6,
   "metadata": {},
   "outputs": [],
   "source": [
    "# creating a dataframe of only Web Dev Cohorts, any cohort not DS or Staff\n",
    "WD_df = df[(df.cohort_id != 28) & (df.cohort_id != 30) & (df.cohort_id != 34) & (df.cohort_id != 55) & (df.cohort_id != 59) & (df.cohort_id != 0)]"
   ]
  },
  {
   "cell_type": "code",
   "execution_count": 7,
   "metadata": {},
   "outputs": [
    {
     "data": {
      "text/plain": [
       "33    34596\n",
       "29    32289\n",
       "24    31127\n",
       "53    30281\n",
       "57    26954\n",
       "56    26192\n",
       "22    26035\n",
       "51    25935\n",
       "32    25289\n",
       "23    24767\n",
       "26    24645\n",
       "58    24199\n",
       "52    23434\n",
       "31    22172\n",
       "25    21936\n",
       "27    17655\n",
       "61     9996\n",
       "14     8835\n",
       "1      7668\n",
       "62     6873\n",
       "21     5978\n",
       "17     4519\n",
       "13     2399\n",
       "18     1747\n",
       "8      1301\n",
       "19      915\n",
       "16      639\n",
       "15      599\n",
       "7       424\n",
       "12      271\n",
       "11      184\n",
       "2        74\n",
       "6        65\n",
       "9         4\n",
       "4         2\n",
       "Name: cohort_id, dtype: int64"
      ]
     },
     "execution_count": 7,
     "metadata": {},
     "output_type": "execute_result"
    }
   ],
   "source": [
    "WD_df.cohort_id.value_counts()"
   ]
  },
  {
   "cell_type": "markdown",
   "metadata": {},
   "source": [
    "##### [Back to Table of Contents](#top-bullet)"
   ]
  },
  {
   "cell_type": "markdown",
   "metadata": {},
   "source": [
    "# Questions Directly Asked"
   ]
  },
  {
   "cell_type": "markdown",
   "metadata": {},
   "source": [
    "## Which lesson appears to attract the most traffic consistently across cohorts (per program)? <a class=\"anchor\" id=\"first-bullet\"></a>"
   ]
  },
  {
   "cell_type": "code",
   "execution_count": 8,
   "metadata": {},
   "outputs": [
    {
     "name": "stdout",
     "output_type": "stream",
     "text": [
      "5 Most Popular Pages in Web Dev Program\n"
     ]
    },
    {
     "data": {
      "text/plain": [
       "javascript-i    12639\n",
       "java-iii         9702\n",
       "html-css         9386\n",
       "java-ii          9072\n",
       "spring           8785\n",
       "Name: page_viewed, dtype: int64"
      ]
     },
     "execution_count": 8,
     "metadata": {},
     "output_type": "execute_result"
    }
   ],
   "source": [
    "# top 5 overall pages\n",
    "print('5 Most Popular Pages in Web Dev Program')\n",
    "WD_df.page_viewed.value_counts().head(5)"
   ]
  },
  {
   "cell_type": "code",
   "execution_count": 9,
   "metadata": {},
   "outputs": [
    {
     "data": {
      "text/plain": [
       "Text(0, 0.5, 'Count of Page Visits')"
      ]
     },
     "execution_count": 9,
     "metadata": {},
     "output_type": "execute_result"
    },
    {
     "data": {
      "image/png": "[encoded data removed]",
      "text/plain": [
       "<Figure size 720x504 with 1 Axes>"
      ]
     },
     "metadata": {
      "needs_background": "light"
     },
     "output_type": "display_data"
    }
   ],
   "source": [
    "# plotting most popular page visits over time\n",
    "plt.figure(figsize=(10,7))\n",
    "WD_df[WD_df.page_viewed == 'javascript-i'].page_viewed.resample('Q').count().plot()\n",
    "plt.title('Visits of javascript-i Curriculumn Over Time')\n",
    "plt.xlabel('Time, Aggregated by Quarterlies')\n",
    "plt.ylabel('Count of Page Visits')"
   ]
  },
  {
   "cell_type": "code",
   "execution_count": 10,
   "metadata": {},
   "outputs": [
    {
     "name": "stdout",
     "output_type": "stream",
     "text": [
      "5 Most Popular Pages in Data Science Program\n"
     ]
    },
    {
     "data": {
      "text/plain": [
       "1-fundamentals/1.1-intro-to-data-science    1536\n",
       "6-regression/1-overview                     1123\n",
       "classification/overview                      860\n",
       "10-anomaly-detection/1-overview              742\n",
       "3-sql/1-mysql-overview                       704\n",
       "Name: page_viewed, dtype: int64"
      ]
     },
     "execution_count": 10,
     "metadata": {},
     "output_type": "execute_result"
    }
   ],
   "source": [
    "# top 5 overall pages\n",
    "print('5 Most Popular Pages in Data Science Program')\n",
    "DS_df.page_viewed.value_counts().head()"
   ]
  },
  {
   "cell_type": "code",
   "execution_count": 53,
   "metadata": {},
   "outputs": [
    {
     "data": {
      "text/plain": [
       "Text(470, 410, 'Darden Begins')"
      ]
     },
     "execution_count": 53,
     "metadata": {},
     "output_type": "execute_result"
    },
    {
     "data": {
      "image/png": "[encoded data removed]",
      "text/plain": [
       "<Figure size 720x504 with 1 Axes>"
      ]
     },
     "metadata": {
      "needs_background": "light"
     },
     "output_type": "display_data"
    }
   ],
   "source": [
    "# plotting most popular page visits over time\n",
    "plt.figure(figsize=(10,7))\n",
    "DS_df[DS_df.page_viewed == '1-fundamentals/1.1-intro-to-data-science'].page_viewed.resample('W').count().plot()\n",
    "plt.title('Visits of Intro to DS Curriculumn Over Time')\n",
    "plt.xlabel('Time, Aggregated by Weeks')\n",
    "plt.ylabel('Count of Page Visits')\n",
    "\n",
    "plt.annotate('Bayes Begins',\n",
    "            xy=(50, 260), xycoords='figure pixels')\n",
    "\n",
    "plt.annotate('Curie Begins',\n",
    "            xy=(265, 260), xycoords='figure pixels')\n",
    "\n",
    "plt.annotate('Darden Begins',\n",
    "            xy=(470, 410), xycoords='figure pixels')"
   ]
  },
  {
   "cell_type": "code",
   "execution_count": 54,
   "metadata": {
    "scrolled": false
   },
   "outputs": [
    {
     "data": {
      "text/plain": [
       "Text(0, 0.5, 'Count of Page Visits')"
      ]
     },
     "execution_count": 54,
     "metadata": {},
     "output_type": "execute_result"
    },
    {
     "data": {
      "image/png": "[encoded data removed]",
      "text/plain": [
       "<Figure size 720x504 with 1 Axes>"
      ]
     },
     "metadata": {
      "needs_background": "light"
     },
     "output_type": "display_data"
    }
   ],
   "source": [
    "# plotting second most popular page visits over time\n",
    "plt.figure(figsize=(10,7))\n",
    "DS_df[DS_df.page_viewed == '6-regression/1-overview'].page_viewed.resample('W').count().plot()\n",
    "plt.title('Visits of Regression Overview Curriculumn Over Time')\n",
    "plt.xlabel('Time, Aggregated by Weeks')\n",
    "plt.ylabel('Count of Page Visits')"
   ]
  },
  {
   "cell_type": "markdown",
   "metadata": {},
   "source": [
    "## Takeaways\n",
    "- For web development, javascript-i is the most visited curriculum page. This is consistent over time, which could be due to the more frequent amount of cohorts.  \n",
    "- For data science, the intro curriculum is the most visited page. The use of the page peaks at the beginning of each cohort, and is used less consistently over time. The second most popular curriculumn page is the Regression Overview, which has a more consistent use.  \n",
    "\n",
    "### Next Steps\n",
    "- Analyze the consistency of page visits on additional pages. Are there less popular pages that are more consistently visited though smaller amounts?"
   ]
  },
  {
   "cell_type": "markdown",
   "metadata": {},
   "source": [
    "##### [Back to Table of Contents](#top-bullet)"
   ]
  },
  {
   "cell_type": "markdown",
   "metadata": {},
   "source": [
    "## Is there a cohort that referred to a lesson significantly more that other cohorts seemed to gloss over? <a class=\"anchor\" id=\"second-bullet\"></a>"
   ]
  },
  {
   "cell_type": "markdown",
   "metadata": {},
   "source": [
    "### Data Science Cohorts"
   ]
  },
  {
   "cell_type": "code",
   "execution_count": 13,
   "metadata": {},
   "outputs": [
    {
     "data": {
      "text/plain": [
       "Index(['1-fundamentals/1.1-intro-to-data-science', '6-regression/1-overview',\n",
       "       'classification/overview', '10-anomaly-detection/1-overview',\n",
       "       '3-sql/1-mysql-overview'],\n",
       "      dtype='object')"
      ]
     },
     "execution_count": 13,
     "metadata": {},
     "output_type": "execute_result"
    }
   ],
   "source": [
    "pd.DataFrame(DS_df.page_viewed.value_counts().head(5)).index"
   ]
  },
  {
   "cell_type": "code",
   "execution_count": 14,
   "metadata": {},
   "outputs": [],
   "source": [
    "popular_DS = DS_df[(DS_df.page_viewed == '1-fundamentals/1.1-intro-to-data-science') | (DS_df.page_viewed == '6-regression/1-overview') | (DS_df.page_viewed == 'classification/overview') | (DS_df.page_viewed == '10-anomaly-detection/1-overview') | (DS_df.page_viewed == '3-sql/1-mysql-overview')]"
   ]
  },
  {
   "cell_type": "code",
   "execution_count": 15,
   "metadata": {},
   "outputs": [],
   "source": [
    "popular_DS = pd.crosstab(popular_DS.cohort_id, popular_DS.page_viewed)"
   ]
  },
  {
   "cell_type": "code",
   "execution_count": 16,
   "metadata": {},
   "outputs": [],
   "source": [
    "popular_DS.columns = ['Fundamentals_Intro','Anomaly_Overview','MySQL_Overview','Regression_Overview','Classification_Overview']"
   ]
  },
  {
   "cell_type": "code",
   "execution_count": 17,
   "metadata": {},
   "outputs": [
    {
     "data": {
      "image/png": "[encoded data removed]",
      "text/plain": [
       "<Figure size 936x576 with 5 Axes>"
      ]
     },
     "metadata": {
      "needs_background": "light"
     },
     "output_type": "display_data"
    }
   ],
   "source": [
    "x = 1\n",
    "plt.figure(figsize=(13,8))\n",
    "for col in popular_DS.columns:\n",
    "    plt.subplot(2,3,x)\n",
    "    x = x + 1\n",
    "    sns.barplot(x=popular_DS.index, y=popular_DS[col])\n",
    "    plt.title(col, fontsize=18)\n",
    "    plt.xlabel(\"Cohort ID\")\n",
    "    plt.ylabel(\"Count of Page Views\")\n",
    "    \n",
    "plt.tight_layout()"
   ]
  },
  {
   "cell_type": "markdown",
   "metadata": {},
   "source": [
    "### Web Dev Cohorts"
   ]
  },
  {
   "cell_type": "code",
   "execution_count": 18,
   "metadata": {},
   "outputs": [
    {
     "data": {
      "text/plain": [
       "Index(['javascript-i', 'java-iii', 'html-css', 'java-ii', 'spring'], dtype='object')"
      ]
     },
     "execution_count": 18,
     "metadata": {},
     "output_type": "execute_result"
    }
   ],
   "source": [
    "pd.DataFrame(WD_df.page_viewed.value_counts().head(5)).index"
   ]
  },
  {
   "cell_type": "code",
   "execution_count": 19,
   "metadata": {},
   "outputs": [],
   "source": [
    "popular_WD = WD_df[(WD_df.page_viewed == 'javascript-i') | (WD_df.page_viewed == 'java-iii') | (WD_df.page_viewed == 'html-css') | (WD_df.page_viewed == 'java-ii') | (WD_df.page_viewed == 'spring')]"
   ]
  },
  {
   "cell_type": "code",
   "execution_count": 20,
   "metadata": {},
   "outputs": [],
   "source": [
    "popular_WD = pd.crosstab(popular_WD.cohort_id, popular_WD.page_viewed)"
   ]
  },
  {
   "cell_type": "code",
   "execution_count": 21,
   "metadata": {
    "scrolled": false
   },
   "outputs": [
    {
     "data": {
      "image/png": "[encoded data removed]",
      "text/plain": [
       "<Figure size 1080x576 with 5 Axes>"
      ]
     },
     "metadata": {
      "needs_background": "light"
     },
     "output_type": "display_data"
    }
   ],
   "source": [
    "x = 1\n",
    "plt.figure(figsize=(15,8))\n",
    "\n",
    "for col in popular_WD.columns:\n",
    "    plt.subplot(3,2,x)\n",
    "    x = x + 1\n",
    "    sns.barplot(x=popular_WD.index, y=popular_WD[col])\n",
    "    plt.title(col, fontsize=18)\n",
    "    plt.xlabel(\"Cohort ID\")\n",
    "    plt.ylabel(\"Count of Page Views\")\n",
    "    \n",
    "plt.tight_layout()"
   ]
  },
  {
   "cell_type": "markdown",
   "metadata": {},
   "source": [
    "### Takeaways\n",
    "Data Science:  \n",
    "- Darden spent the most time on Classification\n",
    "- Curie spent more time on MySql\n",
    "- Bayes and Curie spent more time on Regression and Anomaly  \n",
    "\n",
    "Web Development:  \n",
    "- Similar Cohorts spend more time on the same curriculum pages as opposed to less active cohorts  \n",
    "\n",
    "### Next Steps  \n",
    "\n",
    "Analyze more curriculum pages in addition to the more popular ones."
   ]
  },
  {
   "cell_type": "markdown",
   "metadata": {},
   "source": [
    "##### [Back to Table of Contents](#top-bullet)"
   ]
  },
  {
   "cell_type": "markdown",
   "metadata": {},
   "source": [
    "# Are there students who, when active, hardly access the curriculum? If so, what information do you have about these students? <a class=\"anchor\" id=\"third-bullet\"></a>\n",
    "- active cohort id's == 58, 59, 60, 61"
   ]
  },
  {
   "cell_type": "code",
   "execution_count": 22,
   "metadata": {},
   "outputs": [],
   "source": [
    "active_df = df[(df.cohort_id == 58) | (df.cohort_id == 59) | (df.cohort_id == 60) | (df.cohort_id == 61)]"
   ]
  },
  {
   "cell_type": "code",
   "execution_count": 23,
   "metadata": {},
   "outputs": [
    {
     "data": {
      "text/html": [
       "<div>\n",
       "<style scoped>\n",
       "    .dataframe tbody tr th:only-of-type {\n",
       "        vertical-align: middle;\n",
       "    }\n",
       "\n",
       "    .dataframe tbody tr th {\n",
       "        vertical-align: top;\n",
       "    }\n",
       "\n",
       "    .dataframe thead th {\n",
       "        text-align: right;\n",
       "    }\n",
       "</style>\n",
       "<table border=\"1\" class=\"dataframe\">\n",
       "  <thead>\n",
       "    <tr style=\"text-align: right;\">\n",
       "      <th></th>\n",
       "      <th>page_viewed</th>\n",
       "    </tr>\n",
       "    <tr>\n",
       "      <th>user_id</th>\n",
       "      <th></th>\n",
       "    </tr>\n",
       "  </thead>\n",
       "  <tbody>\n",
       "    <tr>\n",
       "      <th>679</th>\n",
       "      <td>4</td>\n",
       "    </tr>\n",
       "    <tr>\n",
       "      <th>697</th>\n",
       "      <td>7</td>\n",
       "    </tr>\n",
       "    <tr>\n",
       "      <th>785</th>\n",
       "      <td>28</td>\n",
       "    </tr>\n",
       "    <tr>\n",
       "      <th>780</th>\n",
       "      <td>41</td>\n",
       "    </tr>\n",
       "    <tr>\n",
       "      <th>783</th>\n",
       "      <td>50</td>\n",
       "    </tr>\n",
       "    <tr>\n",
       "      <th>784</th>\n",
       "      <td>65</td>\n",
       "    </tr>\n",
       "    <tr>\n",
       "      <th>702</th>\n",
       "      <td>76</td>\n",
       "    </tr>\n",
       "    <tr>\n",
       "      <th>734</th>\n",
       "      <td>78</td>\n",
       "    </tr>\n",
       "    <tr>\n",
       "      <th>781</th>\n",
       "      <td>79</td>\n",
       "    </tr>\n",
       "    <tr>\n",
       "      <th>683</th>\n",
       "      <td>102</td>\n",
       "    </tr>\n",
       "  </tbody>\n",
       "</table>\n",
       "</div>"
      ],
      "text/plain": [
       "         page_viewed\n",
       "user_id             \n",
       "679                4\n",
       "697                7\n",
       "785               28\n",
       "780               41\n",
       "783               50\n",
       "784               65\n",
       "702               76\n",
       "734               78\n",
       "781               79\n",
       "683              102"
      ]
     },
     "execution_count": 23,
     "metadata": {},
     "output_type": "execute_result"
    }
   ],
   "source": [
    "pd.DataFrame(active_df.groupby('user_id')['page_viewed'].count()).sort_values(\"page_viewed\").head(10)"
   ]
  },
  {
   "cell_type": "markdown",
   "metadata": {},
   "source": [
    "### Least Active Student User Id's\n",
    "Note: Top 5 from cohort 59. \n",
    "- 679, 24.28.146.155, 2 days at start of program\n",
    "    - user_id 698 has same ip\n",
    "- 697, 136.50.70.27, 1 day at start of program\n",
    "    - user_id 699 has same ip\n",
    "- 785, 72.181.127.233, from 10/26 to 11/02\n",
    "    - user_id 689 has same ip\n",
    "- 780, 99.132.128.255, from 10/22 to 11/02\n",
    "    - user_id 687 has same ip\n",
    "- 783, 70.120.16.59, from 10/25 to 11/02\n",
    "    - user_id 684 has same ip\n",
    "- 702, 76.221.87.98, cohort 61, from 7/20 to 8/03\n",
    "    - user_id 737 has same ip"
   ]
  },
  {
   "cell_type": "code",
   "execution_count": 24,
   "metadata": {},
   "outputs": [
    {
     "data": {
      "text/html": [
       "<div>\n",
       "<style scoped>\n",
       "    .dataframe tbody tr th:only-of-type {\n",
       "        vertical-align: middle;\n",
       "    }\n",
       "\n",
       "    .dataframe tbody tr th {\n",
       "        vertical-align: top;\n",
       "    }\n",
       "\n",
       "    .dataframe thead th {\n",
       "        text-align: right;\n",
       "    }\n",
       "</style>\n",
       "<table border=\"1\" class=\"dataframe\">\n",
       "  <thead>\n",
       "    <tr style=\"text-align: right;\">\n",
       "      <th></th>\n",
       "      <th>page_viewed</th>\n",
       "      <th>user_id</th>\n",
       "      <th>cohort_id</th>\n",
       "      <th>ip</th>\n",
       "      <th>ip_int</th>\n",
       "    </tr>\n",
       "  </thead>\n",
       "  <tbody>\n",
       "    <tr>\n",
       "      <th>2020-07-20 19:31:13</th>\n",
       "      <td>html-css</td>\n",
       "      <td>702</td>\n",
       "      <td>61</td>\n",
       "      <td>76.221.87.98</td>\n",
       "      <td>762218798</td>\n",
       "    </tr>\n",
       "  </tbody>\n",
       "</table>\n",
       "</div>"
      ],
      "text/plain": [
       "                    page_viewed  user_id  cohort_id            ip     ip_int\n",
       "2020-07-20 19:31:13    html-css      702         61  76.221.87.98  762218798"
      ]
     },
     "execution_count": 24,
     "metadata": {},
     "output_type": "execute_result"
    }
   ],
   "source": [
    "# to find details for the specific user\n",
    "df[df.user_id == 702].head(1)"
   ]
  },
  {
   "cell_type": "code",
   "execution_count": 25,
   "metadata": {},
   "outputs": [
    {
     "data": {
      "text/plain": [
       "737    696\n",
       "702     72\n",
       "Name: user_id, dtype: int64"
      ]
     },
     "execution_count": 25,
     "metadata": {},
     "output_type": "execute_result"
    }
   ],
   "source": [
    "# to see if any other users id's share the same ip\n",
    "df[df.ip == \"76.221.87.98\"].user_id.value_counts()"
   ]
  },
  {
   "cell_type": "markdown",
   "metadata": {},
   "source": [
    "## Takeaways\n",
    "Students currently active in a Codeup program may appear to be inactive on curriculum views. However, many user id's share the same ip address, suggesting one student can have more than one user id.\n",
    "\n",
    "## Next steps\n",
    "Analyze individual cohorts by their start and end data to determine if these conclusions apply to past cohorts as well."
   ]
  },
  {
   "cell_type": "markdown",
   "metadata": {},
   "source": [
    "##### [Back to Table of Contents](#top-bullet)"
   ]
  },
  {
   "cell_type": "markdown",
   "metadata": {},
   "source": [
    "# Is there any suspicious activity, such as users/machines/etc accessing the curriculum who shouldn’t be? Does it appear that any web-scraping is happening? Are there any suspicious IP addresses? Any odd user-agents? <a class=\"anchor\" id=\"fourth-bullet\"></a>"
   ]
  },
  {
   "cell_type": "markdown",
   "metadata": {},
   "source": [
    "IP Address contains the network and the host. There are four classes:\n",
    "- Class A\n",
    "    - starts with 1 to 126\n",
    "- Class B\n",
    "    - 128 to 191\n",
    "    - The number 127 is reserved for loopback and is used for internal testing on the local machine\n",
    "- Class C\n",
    "    - 192 to 223\n",
    "- Class D\n",
    "    - 224 to 239\n",
    "    - are used to support multicasting\n",
    "- Class E\n",
    "    - 240 to 255. \n",
    "    - used for experimentation\n",
    "    - They have never been documented or utilized in a standard way.\n",
    "    \n",
    "https://www.webopedia.com/DidYouKnow/Internet/IPaddressing.asp\n",
    "\n",
    "### Our current log's ip addresses range from 67 to 221"
   ]
  },
  {
   "cell_type": "markdown",
   "metadata": {},
   "source": [
    "Note: pages_viewed has a suspicous page \"%20https://github.com/RaulCPena\""
   ]
  },
  {
   "cell_type": "code",
   "execution_count": 26,
   "metadata": {},
   "outputs": [
    {
     "data": {
      "text/plain": [
       "(221229204176, 67769)"
      ]
     },
     "execution_count": 26,
     "metadata": {},
     "output_type": "execute_result"
    }
   ],
   "source": [
    "df.ip_int.max(), df.ip_int.min()"
   ]
  },
  {
   "cell_type": "code",
   "execution_count": 27,
   "metadata": {},
   "outputs": [
    {
     "data": {
      "text/html": [
       "<div>\n",
       "<style scoped>\n",
       "    .dataframe tbody tr th:only-of-type {\n",
       "        vertical-align: middle;\n",
       "    }\n",
       "\n",
       "    .dataframe tbody tr th {\n",
       "        vertical-align: top;\n",
       "    }\n",
       "\n",
       "    .dataframe thead th {\n",
       "        text-align: right;\n",
       "    }\n",
       "</style>\n",
       "<table border=\"1\" class=\"dataframe\">\n",
       "  <thead>\n",
       "    <tr style=\"text-align: right;\">\n",
       "      <th></th>\n",
       "      <th>page_viewed</th>\n",
       "      <th>user_id</th>\n",
       "      <th>cohort_id</th>\n",
       "      <th>ip</th>\n",
       "      <th>ip_int</th>\n",
       "    </tr>\n",
       "  </thead>\n",
       "  <tbody>\n",
       "    <tr>\n",
       "      <th>2020-04-21 22:58:35</th>\n",
       "      <td>7-classification/2-acquire</td>\n",
       "      <td>590</td>\n",
       "      <td>55</td>\n",
       "      <td>221.229.204.176</td>\n",
       "      <td>221229204176</td>\n",
       "    </tr>\n",
       "    <tr>\n",
       "      <th>2020-04-21 22:59:15</th>\n",
       "      <td>7-classification/3-prep</td>\n",
       "      <td>590</td>\n",
       "      <td>55</td>\n",
       "      <td>221.229.204.176</td>\n",
       "      <td>221229204176</td>\n",
       "    </tr>\n",
       "  </tbody>\n",
       "</table>\n",
       "</div>"
      ],
      "text/plain": [
       "                                    page_viewed  user_id  cohort_id  \\\n",
       "2020-04-21 22:58:35  7-classification/2-acquire      590         55   \n",
       "2020-04-21 22:59:15     7-classification/3-prep      590         55   \n",
       "\n",
       "                                  ip        ip_int  \n",
       "2020-04-21 22:58:35  221.229.204.176  221229204176  \n",
       "2020-04-21 22:59:15  221.229.204.176  221229204176  "
      ]
     },
     "execution_count": 27,
     "metadata": {},
     "output_type": "execute_result"
    }
   ],
   "source": [
    "df[df.ip_int == 221229204176]"
   ]
  },
  {
   "cell_type": "code",
   "execution_count": 28,
   "metadata": {
    "scrolled": false
   },
   "outputs": [
    {
     "data": {
      "text/html": [
       "<div>\n",
       "<style scoped>\n",
       "    .dataframe tbody tr th:only-of-type {\n",
       "        vertical-align: middle;\n",
       "    }\n",
       "\n",
       "    .dataframe tbody tr th {\n",
       "        vertical-align: top;\n",
       "    }\n",
       "\n",
       "    .dataframe thead th {\n",
       "        text-align: right;\n",
       "    }\n",
       "</style>\n",
       "<table border=\"1\" class=\"dataframe\">\n",
       "  <thead>\n",
       "    <tr style=\"text-align: right;\">\n",
       "      <th></th>\n",
       "      <th>page_viewed</th>\n",
       "      <th>user_id</th>\n",
       "      <th>cohort_id</th>\n",
       "      <th>ip</th>\n",
       "      <th>ip_int</th>\n",
       "    </tr>\n",
       "  </thead>\n",
       "  <tbody>\n",
       "    <tr>\n",
       "      <th>2020-02-04 10:05:39</th>\n",
       "      <td>1-fundamentals/1.1-intro-to-data-science</td>\n",
       "      <td>590</td>\n",
       "      <td>55</td>\n",
       "      <td>97.105.19.58</td>\n",
       "      <td>971051958</td>\n",
       "    </tr>\n",
       "    <tr>\n",
       "      <th>2020-02-05 09:28:06</th>\n",
       "      <td>1-fundamentals/1.2-data-science-pipeline</td>\n",
       "      <td>590</td>\n",
       "      <td>55</td>\n",
       "      <td>97.105.19.58</td>\n",
       "      <td>971051958</td>\n",
       "    </tr>\n",
       "    <tr>\n",
       "      <th>2020-02-05 13:15:32</th>\n",
       "      <td>1-fundamentals/1.1-intro-to-data-science</td>\n",
       "      <td>590</td>\n",
       "      <td>55</td>\n",
       "      <td>97.105.19.58</td>\n",
       "      <td>971051958</td>\n",
       "    </tr>\n",
       "    <tr>\n",
       "      <th>2020-02-06 08:47:08</th>\n",
       "      <td>1-fundamentals/1.1-intro-to-data-science</td>\n",
       "      <td>590</td>\n",
       "      <td>55</td>\n",
       "      <td>97.105.19.58</td>\n",
       "      <td>971051958</td>\n",
       "    </tr>\n",
       "    <tr>\n",
       "      <th>2020-02-06 08:47:16</th>\n",
       "      <td>1-fundamentals/3-vocabulary</td>\n",
       "      <td>590</td>\n",
       "      <td>55</td>\n",
       "      <td>97.105.19.58</td>\n",
       "      <td>971051958</td>\n",
       "    </tr>\n",
       "    <tr>\n",
       "      <th>...</th>\n",
       "      <td>...</td>\n",
       "      <td>...</td>\n",
       "      <td>...</td>\n",
       "      <td>...</td>\n",
       "      <td>...</td>\n",
       "    </tr>\n",
       "    <tr>\n",
       "      <th>2020-10-16 14:07:06</th>\n",
       "      <td>4-python/5-functions</td>\n",
       "      <td>590</td>\n",
       "      <td>55</td>\n",
       "      <td>130.45.47.56</td>\n",
       "      <td>130454756</td>\n",
       "    </tr>\n",
       "    <tr>\n",
       "      <th>2020-10-22 09:39:16</th>\n",
       "      <td>4-python/5-functions</td>\n",
       "      <td>590</td>\n",
       "      <td>55</td>\n",
       "      <td>130.45.47.56</td>\n",
       "      <td>130454756</td>\n",
       "    </tr>\n",
       "    <tr>\n",
       "      <th>2020-10-22 09:39:32</th>\n",
       "      <td>5-stats/4.2-compare-means</td>\n",
       "      <td>590</td>\n",
       "      <td>55</td>\n",
       "      <td>130.45.47.56</td>\n",
       "      <td>130454756</td>\n",
       "    </tr>\n",
       "    <tr>\n",
       "      <th>2020-10-22 09:40:10</th>\n",
       "      <td>5-stats/4.5-more-statistical-testing-examples</td>\n",
       "      <td>590</td>\n",
       "      <td>55</td>\n",
       "      <td>130.45.47.56</td>\n",
       "      <td>130454756</td>\n",
       "    </tr>\n",
       "    <tr>\n",
       "      <th>2020-10-22 09:40:11</th>\n",
       "      <td>5-stats/Selecting_a_hypothesis_test.svg</td>\n",
       "      <td>590</td>\n",
       "      <td>55</td>\n",
       "      <td>130.45.47.56</td>\n",
       "      <td>130454756</td>\n",
       "    </tr>\n",
       "  </tbody>\n",
       "</table>\n",
       "<p>1269 rows × 5 columns</p>\n",
       "</div>"
      ],
      "text/plain": [
       "                                                       page_viewed  user_id  \\\n",
       "2020-02-04 10:05:39       1-fundamentals/1.1-intro-to-data-science      590   \n",
       "2020-02-05 09:28:06       1-fundamentals/1.2-data-science-pipeline      590   \n",
       "2020-02-05 13:15:32       1-fundamentals/1.1-intro-to-data-science      590   \n",
       "2020-02-06 08:47:08       1-fundamentals/1.1-intro-to-data-science      590   \n",
       "2020-02-06 08:47:16                    1-fundamentals/3-vocabulary      590   \n",
       "...                                                            ...      ...   \n",
       "2020-10-16 14:07:06                           4-python/5-functions      590   \n",
       "2020-10-22 09:39:16                           4-python/5-functions      590   \n",
       "2020-10-22 09:39:32                      5-stats/4.2-compare-means      590   \n",
       "2020-10-22 09:40:10  5-stats/4.5-more-statistical-testing-examples      590   \n",
       "2020-10-22 09:40:11        5-stats/Selecting_a_hypothesis_test.svg      590   \n",
       "\n",
       "                     cohort_id            ip     ip_int  \n",
       "2020-02-04 10:05:39         55  97.105.19.58  971051958  \n",
       "2020-02-05 09:28:06         55  97.105.19.58  971051958  \n",
       "2020-02-05 13:15:32         55  97.105.19.58  971051958  \n",
       "2020-02-06 08:47:08         55  97.105.19.58  971051958  \n",
       "2020-02-06 08:47:16         55  97.105.19.58  971051958  \n",
       "...                        ...           ...        ...  \n",
       "2020-10-16 14:07:06         55  130.45.47.56  130454756  \n",
       "2020-10-22 09:39:16         55  130.45.47.56  130454756  \n",
       "2020-10-22 09:39:32         55  130.45.47.56  130454756  \n",
       "2020-10-22 09:40:10         55  130.45.47.56  130454756  \n",
       "2020-10-22 09:40:11         55  130.45.47.56  130454756  \n",
       "\n",
       "[1269 rows x 5 columns]"
      ]
     },
     "execution_count": 28,
     "metadata": {},
     "output_type": "execute_result"
    }
   ],
   "source": [
    "DS_df[DS_df.user_id == 590]"
   ]
  },
  {
   "cell_type": "code",
   "execution_count": 29,
   "metadata": {},
   "outputs": [
    {
     "data": {
      "text/plain": [
       "130.45.47.56      606\n",
       "97.105.19.58      246\n",
       "172.58.67.230      49\n",
       "72.128.136.219     23\n",
       "172.58.107.109     22\n",
       "                 ... \n",
       "172.58.102.173      1\n",
       "172.58.107.63       1\n",
       "172.58.107.123      1\n",
       "172.58.107.137      1\n",
       "172.58.110.154      1\n",
       "Name: ip, Length: 72, dtype: int64"
      ]
     },
     "execution_count": 29,
     "metadata": {},
     "output_type": "execute_result"
    }
   ],
   "source": [
    "df[df.user_id == 590].ip.value_counts()"
   ]
  },
  {
   "cell_type": "markdown",
   "metadata": {},
   "source": [
    "#### Suspicous IP Addresses\n",
    "- 221.229.204.176 located in China, only used twice, stayed on classification acquire for less than a minute before viewing classification prep\n",
    "- the user id associated with this IP is number 590\n",
    "- switches from page to page quickly\n",
    "- has 73 different IP addresses associated"
   ]
  },
  {
   "cell_type": "code",
   "execution_count": 30,
   "metadata": {},
   "outputs": [],
   "source": [
    "df_ip = pd.DataFrame(df.ip.value_counts(dropna=False)).reset_index().\\\n",
    "                rename(index=str, columns={'index': 'ip', 'ip': 'ip_count'})"
   ]
  },
  {
   "cell_type": "code",
   "execution_count": 31,
   "metadata": {},
   "outputs": [],
   "source": [
    "df_ip[\"proba\"] = df_ip.ip_count / df_ip.ip_count.sum()"
   ]
  },
  {
   "cell_type": "code",
   "execution_count": 32,
   "metadata": {},
   "outputs": [
    {
     "data": {
      "text/html": [
       "<div>\n",
       "<style scoped>\n",
       "    .dataframe tbody tr th:only-of-type {\n",
       "        vertical-align: middle;\n",
       "    }\n",
       "\n",
       "    .dataframe tbody tr th {\n",
       "        vertical-align: top;\n",
       "    }\n",
       "\n",
       "    .dataframe thead th {\n",
       "        text-align: right;\n",
       "    }\n",
       "</style>\n",
       "<table border=\"1\" class=\"dataframe\">\n",
       "  <thead>\n",
       "    <tr style=\"text-align: right;\">\n",
       "      <th></th>\n",
       "      <th>ip</th>\n",
       "      <th>ip_count</th>\n",
       "      <th>proba</th>\n",
       "    </tr>\n",
       "  </thead>\n",
       "  <tbody>\n",
       "    <tr>\n",
       "      <th>0</th>\n",
       "      <td>97.105.19.58</td>\n",
       "      <td>246274</td>\n",
       "      <td>0.405613</td>\n",
       "    </tr>\n",
       "    <tr>\n",
       "      <th>1</th>\n",
       "      <td>97.105.19.61</td>\n",
       "      <td>54675</td>\n",
       "      <td>0.090050</td>\n",
       "    </tr>\n",
       "    <tr>\n",
       "      <th>2</th>\n",
       "      <td>192.171.117.210</td>\n",
       "      <td>8062</td>\n",
       "      <td>0.013278</td>\n",
       "    </tr>\n",
       "    <tr>\n",
       "      <th>3</th>\n",
       "      <td>71.150.217.33</td>\n",
       "      <td>4060</td>\n",
       "      <td>0.006687</td>\n",
       "    </tr>\n",
       "    <tr>\n",
       "      <th>4</th>\n",
       "      <td>12.106.208.194</td>\n",
       "      <td>3567</td>\n",
       "      <td>0.005875</td>\n",
       "    </tr>\n",
       "    <tr>\n",
       "      <th>...</th>\n",
       "      <td>...</td>\n",
       "      <td>...</td>\n",
       "      <td>...</td>\n",
       "    </tr>\n",
       "    <tr>\n",
       "      <th>3936</th>\n",
       "      <td>172.58.96.4</td>\n",
       "      <td>1</td>\n",
       "      <td>0.000002</td>\n",
       "    </tr>\n",
       "    <tr>\n",
       "      <th>3937</th>\n",
       "      <td>107.77.221.14</td>\n",
       "      <td>1</td>\n",
       "      <td>0.000002</td>\n",
       "    </tr>\n",
       "    <tr>\n",
       "      <th>3938</th>\n",
       "      <td>209.107.210.228</td>\n",
       "      <td>1</td>\n",
       "      <td>0.000002</td>\n",
       "    </tr>\n",
       "    <tr>\n",
       "      <th>3939</th>\n",
       "      <td>174.207.17.181</td>\n",
       "      <td>1</td>\n",
       "      <td>0.000002</td>\n",
       "    </tr>\n",
       "    <tr>\n",
       "      <th>3940</th>\n",
       "      <td>99.203.27.241</td>\n",
       "      <td>1</td>\n",
       "      <td>0.000002</td>\n",
       "    </tr>\n",
       "  </tbody>\n",
       "</table>\n",
       "<p>3941 rows × 3 columns</p>\n",
       "</div>"
      ],
      "text/plain": [
       "                   ip  ip_count     proba\n",
       "0        97.105.19.58    246274  0.405613\n",
       "1        97.105.19.61     54675  0.090050\n",
       "2     192.171.117.210      8062  0.013278\n",
       "3       71.150.217.33      4060  0.006687\n",
       "4      12.106.208.194      3567  0.005875\n",
       "...               ...       ...       ...\n",
       "3936      172.58.96.4         1  0.000002\n",
       "3937    107.77.221.14         1  0.000002\n",
       "3938  209.107.210.228         1  0.000002\n",
       "3939   174.207.17.181         1  0.000002\n",
       "3940    99.203.27.241         1  0.000002\n",
       "\n",
       "[3941 rows x 3 columns]"
      ]
     },
     "execution_count": 32,
     "metadata": {},
     "output_type": "execute_result"
    }
   ],
   "source": [
    "df_ip"
   ]
  },
  {
   "cell_type": "code",
   "execution_count": 33,
   "metadata": {},
   "outputs": [
    {
     "data": {
      "text/html": [
       "<div>\n",
       "<style scoped>\n",
       "    .dataframe tbody tr th:only-of-type {\n",
       "        vertical-align: middle;\n",
       "    }\n",
       "\n",
       "    .dataframe tbody tr th {\n",
       "        vertical-align: top;\n",
       "    }\n",
       "\n",
       "    .dataframe thead th {\n",
       "        text-align: right;\n",
       "    }\n",
       "</style>\n",
       "<table border=\"1\" class=\"dataframe\">\n",
       "  <thead>\n",
       "    <tr style=\"text-align: right;\">\n",
       "      <th></th>\n",
       "      <th>page_viewed</th>\n",
       "      <th>user_id</th>\n",
       "      <th>cohort_id</th>\n",
       "      <th>ip</th>\n",
       "      <th>ip_int</th>\n",
       "    </tr>\n",
       "  </thead>\n",
       "  <tbody>\n",
       "    <tr>\n",
       "      <th>2019-12-02 21:06:42</th>\n",
       "      <td>students/643/This%20alumnus%20works%20for%20Ap...</td>\n",
       "      <td>11</td>\n",
       "      <td>28</td>\n",
       "      <td>76.185.131.226</td>\n",
       "      <td>76185131226</td>\n",
       "    </tr>\n",
       "  </tbody>\n",
       "</table>\n",
       "</div>"
      ],
      "text/plain": [
       "                                                           page_viewed  \\\n",
       "2019-12-02 21:06:42  students/643/This%20alumnus%20works%20for%20Ap...   \n",
       "\n",
       "                     user_id  cohort_id              ip       ip_int  \n",
       "2019-12-02 21:06:42       11         28  76.185.131.226  76185131226  "
      ]
     },
     "execution_count": 33,
     "metadata": {},
     "output_type": "execute_result"
    }
   ],
   "source": [
    "df[df.page_viewed == 'students/643/This%20alumnus%20works%20for%20Appdiction%20Studios,%20as%20of%20this%20timestamp.%20This%20company%20is%20launching%20a%20bootcamp%20program%20in%20competition.%20For%20this%20reason,%20curriculum%20access%20is%20disabled%20until%20further%20notice.']"
   ]
  },
  {
   "cell_type": "markdown",
   "metadata": {},
   "source": [
    "##### [Back to Table of Contents](#top-bullet)"
   ]
  },
  {
   "cell_type": "markdown",
   "metadata": {},
   "source": [
    "## At some point in the last year, ability for students and alumni to cross-access curriculum (web dev to ds, ds to web dev) should have been shut off. Do you see any evidence of that happening? Did it happen before? <a class=\"anchor\" id=\"fifth-bullet\"></a>"
   ]
  },
  {
   "cell_type": "code",
   "execution_count": 34,
   "metadata": {},
   "outputs": [],
   "source": [
    "WD_users = list(WD_df.user_id.unique())"
   ]
  },
  {
   "cell_type": "code",
   "execution_count": 35,
   "metadata": {},
   "outputs": [],
   "source": [
    "DS_users = list(DS_df.user_id.unique())"
   ]
  },
  {
   "cell_type": "code",
   "execution_count": 36,
   "metadata": {},
   "outputs": [],
   "source": [
    "duplicate_users = []\n",
    "\n",
    "for x in WD_users:\n",
    "    if x in DS_users:\n",
    "        duplicate_users.append(x)"
   ]
  },
  {
   "cell_type": "code",
   "execution_count": 37,
   "metadata": {},
   "outputs": [],
   "source": [
    "duplicate_users = pd.DataFrame(duplicate_users)"
   ]
  },
  {
   "cell_type": "code",
   "execution_count": 38,
   "metadata": {},
   "outputs": [],
   "source": [
    "duplicate_users.columns = ['user_id']"
   ]
  },
  {
   "cell_type": "code",
   "execution_count": 39,
   "metadata": {},
   "outputs": [],
   "source": [
    "DS_page_count = []\n",
    "WD_page_count = []\n",
    "\n",
    "for x in duplicate_users.user_id:\n",
    "    \n",
    "    DS_page_count.append(DS_df[DS_df.user_id == x].page_viewed.count())\n",
    "\n",
    "    WD_page_count.append(WD_df[WD_df.user_id == x].page_viewed.count())\n",
    "    \n",
    "duplicate_users['DS_page_count'] = DS_page_count\n",
    "duplicate_users['WD_page_count'] = WD_page_count"
   ]
  },
  {
   "cell_type": "code",
   "execution_count": 40,
   "metadata": {},
   "outputs": [
    {
     "data": {
      "text/html": [
       "<div>\n",
       "<style scoped>\n",
       "    .dataframe tbody tr th:only-of-type {\n",
       "        vertical-align: middle;\n",
       "    }\n",
       "\n",
       "    .dataframe tbody tr th {\n",
       "        vertical-align: top;\n",
       "    }\n",
       "\n",
       "    .dataframe thead th {\n",
       "        text-align: right;\n",
       "    }\n",
       "</style>\n",
       "<table border=\"1\" class=\"dataframe\">\n",
       "  <thead>\n",
       "    <tr style=\"text-align: right;\">\n",
       "      <th></th>\n",
       "      <th>user_id</th>\n",
       "      <th>DS_page_count</th>\n",
       "      <th>WD_page_count</th>\n",
       "    </tr>\n",
       "  </thead>\n",
       "  <tbody>\n",
       "    <tr>\n",
       "      <th>0</th>\n",
       "      <td>268</td>\n",
       "      <td>665</td>\n",
       "      <td>269</td>\n",
       "    </tr>\n",
       "  </tbody>\n",
       "</table>\n",
       "</div>"
      ],
      "text/plain": [
       "   user_id  DS_page_count  WD_page_count\n",
       "0      268            665            269"
      ]
     },
     "execution_count": 40,
     "metadata": {},
     "output_type": "execute_result"
    }
   ],
   "source": [
    "duplicate_users"
   ]
  },
  {
   "cell_type": "code",
   "execution_count": 43,
   "metadata": {},
   "outputs": [],
   "source": [
    "user_cohorts = df[['user_id','cohort_id']].groupby('user_id').min()"
   ]
  },
  {
   "cell_type": "code",
   "execution_count": 44,
   "metadata": {},
   "outputs": [],
   "source": [
    "duplicate_users = duplicate_users.merge(user_cohorts, left_on=\"user_id\", right_on=\"user_id\")"
   ]
  },
  {
   "cell_type": "code",
   "execution_count": 45,
   "metadata": {},
   "outputs": [
    {
     "data": {
      "text/html": [
       "<div>\n",
       "<style scoped>\n",
       "    .dataframe tbody tr th:only-of-type {\n",
       "        vertical-align: middle;\n",
       "    }\n",
       "\n",
       "    .dataframe tbody tr th {\n",
       "        vertical-align: top;\n",
       "    }\n",
       "\n",
       "    .dataframe thead th {\n",
       "        text-align: right;\n",
       "    }\n",
       "</style>\n",
       "<table border=\"1\" class=\"dataframe\">\n",
       "  <thead>\n",
       "    <tr style=\"text-align: right;\">\n",
       "      <th></th>\n",
       "      <th>user_id</th>\n",
       "      <th>DS_page_count</th>\n",
       "      <th>WD_page_count</th>\n",
       "      <th>cohort_id</th>\n",
       "    </tr>\n",
       "  </thead>\n",
       "  <tbody>\n",
       "    <tr>\n",
       "      <th>0</th>\n",
       "      <td>268</td>\n",
       "      <td>665</td>\n",
       "      <td>269</td>\n",
       "      <td>26</td>\n",
       "    </tr>\n",
       "  </tbody>\n",
       "</table>\n",
       "</div>"
      ],
      "text/plain": [
       "   user_id  DS_page_count  WD_page_count  cohort_id\n",
       "0      268            665            269         26"
      ]
     },
     "execution_count": 45,
     "metadata": {},
     "output_type": "execute_result"
    }
   ],
   "source": [
    "duplicate_users"
   ]
  },
  {
   "cell_type": "code",
   "execution_count": 55,
   "metadata": {},
   "outputs": [
    {
     "data": {
      "text/html": [
       "<div>\n",
       "<style scoped>\n",
       "    .dataframe tbody tr th:only-of-type {\n",
       "        vertical-align: middle;\n",
       "    }\n",
       "\n",
       "    .dataframe tbody tr th {\n",
       "        vertical-align: top;\n",
       "    }\n",
       "\n",
       "    .dataframe thead th {\n",
       "        text-align: right;\n",
       "    }\n",
       "</style>\n",
       "<table border=\"1\" class=\"dataframe\">\n",
       "  <thead>\n",
       "    <tr style=\"text-align: right;\">\n",
       "      <th></th>\n",
       "      <th>page_viewed</th>\n",
       "      <th>user_id</th>\n",
       "      <th>cohort_id</th>\n",
       "      <th>ip</th>\n",
       "      <th>ip_int</th>\n",
       "    </tr>\n",
       "  </thead>\n",
       "  <tbody>\n",
       "    <tr>\n",
       "      <th>2018-09-17 14:19:50</th>\n",
       "      <td>html-css</td>\n",
       "      <td>268</td>\n",
       "      <td>26</td>\n",
       "      <td>97.105.19.58</td>\n",
       "      <td>971051958</td>\n",
       "    </tr>\n",
       "    <tr>\n",
       "      <th>2018-09-17 15:05:42</th>\n",
       "      <td>html-css/introduction</td>\n",
       "      <td>268</td>\n",
       "      <td>26</td>\n",
       "      <td>97.105.19.58</td>\n",
       "      <td>971051958</td>\n",
       "    </tr>\n",
       "    <tr>\n",
       "      <th>2018-09-17 15:24:58</th>\n",
       "      <td>html-css/elements</td>\n",
       "      <td>268</td>\n",
       "      <td>26</td>\n",
       "      <td>97.105.19.58</td>\n",
       "      <td>971051958</td>\n",
       "    </tr>\n",
       "    <tr>\n",
       "      <th>2018-09-17 15:26:09</th>\n",
       "      <td>html-css/introduction</td>\n",
       "      <td>268</td>\n",
       "      <td>26</td>\n",
       "      <td>97.105.19.58</td>\n",
       "      <td>971051958</td>\n",
       "    </tr>\n",
       "    <tr>\n",
       "      <th>2018-09-18 08:45:40</th>\n",
       "      <td>html-css/elements</td>\n",
       "      <td>268</td>\n",
       "      <td>26</td>\n",
       "      <td>97.105.19.58</td>\n",
       "      <td>971051958</td>\n",
       "    </tr>\n",
       "    <tr>\n",
       "      <th>...</th>\n",
       "      <td>...</td>\n",
       "      <td>...</td>\n",
       "      <td>...</td>\n",
       "      <td>...</td>\n",
       "      <td>...</td>\n",
       "    </tr>\n",
       "    <tr>\n",
       "      <th>2020-11-02 10:07:57</th>\n",
       "      <td>classification/overview</td>\n",
       "      <td>268</td>\n",
       "      <td>59</td>\n",
       "      <td>173.174.200.226</td>\n",
       "      <td>173174200226</td>\n",
       "    </tr>\n",
       "    <tr>\n",
       "      <th>2020-11-02 10:07:58</th>\n",
       "      <td>classification/scale_features_or_not.svg</td>\n",
       "      <td>268</td>\n",
       "      <td>59</td>\n",
       "      <td>173.174.200.226</td>\n",
       "      <td>173174200226</td>\n",
       "    </tr>\n",
       "    <tr>\n",
       "      <th>2020-11-02 10:08:05</th>\n",
       "      <td>timeseries/modeling-lesson1</td>\n",
       "      <td>268</td>\n",
       "      <td>59</td>\n",
       "      <td>173.174.200.226</td>\n",
       "      <td>173174200226</td>\n",
       "    </tr>\n",
       "    <tr>\n",
       "      <th>2020-11-02 15:19:27</th>\n",
       "      <td>timeseries/explore</td>\n",
       "      <td>268</td>\n",
       "      <td>59</td>\n",
       "      <td>173.174.200.226</td>\n",
       "      <td>173174200226</td>\n",
       "    </tr>\n",
       "    <tr>\n",
       "      <th>2020-11-02 15:19:27</th>\n",
       "      <td>timeseries/working-with-time-series-data</td>\n",
       "      <td>268</td>\n",
       "      <td>59</td>\n",
       "      <td>173.174.200.226</td>\n",
       "      <td>173174200226</td>\n",
       "    </tr>\n",
       "  </tbody>\n",
       "</table>\n",
       "<p>934 rows × 5 columns</p>\n",
       "</div>"
      ],
      "text/plain": [
       "                                                  page_viewed  user_id  \\\n",
       "2018-09-17 14:19:50                                  html-css      268   \n",
       "2018-09-17 15:05:42                     html-css/introduction      268   \n",
       "2018-09-17 15:24:58                         html-css/elements      268   \n",
       "2018-09-17 15:26:09                     html-css/introduction      268   \n",
       "2018-09-18 08:45:40                         html-css/elements      268   \n",
       "...                                                       ...      ...   \n",
       "2020-11-02 10:07:57                   classification/overview      268   \n",
       "2020-11-02 10:07:58  classification/scale_features_or_not.svg      268   \n",
       "2020-11-02 10:08:05               timeseries/modeling-lesson1      268   \n",
       "2020-11-02 15:19:27                        timeseries/explore      268   \n",
       "2020-11-02 15:19:27  timeseries/working-with-time-series-data      268   \n",
       "\n",
       "                     cohort_id               ip        ip_int  \n",
       "2018-09-17 14:19:50         26     97.105.19.58     971051958  \n",
       "2018-09-17 15:05:42         26     97.105.19.58     971051958  \n",
       "2018-09-17 15:24:58         26     97.105.19.58     971051958  \n",
       "2018-09-17 15:26:09         26     97.105.19.58     971051958  \n",
       "2018-09-18 08:45:40         26     97.105.19.58     971051958  \n",
       "...                        ...              ...           ...  \n",
       "2020-11-02 10:07:57         59  173.174.200.226  173174200226  \n",
       "2020-11-02 10:07:58         59  173.174.200.226  173174200226  \n",
       "2020-11-02 10:08:05         59  173.174.200.226  173174200226  \n",
       "2020-11-02 15:19:27         59  173.174.200.226  173174200226  \n",
       "2020-11-02 15:19:27         59  173.174.200.226  173174200226  \n",
       "\n",
       "[934 rows x 5 columns]"
      ]
     },
     "execution_count": 55,
     "metadata": {},
     "output_type": "execute_result"
    }
   ],
   "source": [
    "df[df.user_id == 268]"
   ]
  },
  {
   "cell_type": "markdown",
   "metadata": {},
   "source": [
    "### One user has page views from both programs, it seems the user graduated a Wed Development cohort and joined a Data Science cohort recently"
   ]
  },
  {
   "cell_type": "code",
   "execution_count": 87,
   "metadata": {},
   "outputs": [
    {
     "data": {
      "text/html": [
       "<div>\n",
       "<style scoped>\n",
       "    .dataframe tbody tr th:only-of-type {\n",
       "        vertical-align: middle;\n",
       "    }\n",
       "\n",
       "    .dataframe tbody tr th {\n",
       "        vertical-align: top;\n",
       "    }\n",
       "\n",
       "    .dataframe thead th {\n",
       "        text-align: right;\n",
       "    }\n",
       "</style>\n",
       "<table border=\"1\" class=\"dataframe\">\n",
       "  <thead>\n",
       "    <tr style=\"text-align: right;\">\n",
       "      <th></th>\n",
       "      <th>page_viewed</th>\n",
       "      <th>user_id</th>\n",
       "      <th>cohort_id</th>\n",
       "      <th>ip</th>\n",
       "      <th>ip_int</th>\n",
       "    </tr>\n",
       "  </thead>\n",
       "  <tbody>\n",
       "    <tr>\n",
       "      <th>2019-04-13 01:40:39</th>\n",
       "      <td>data-science</td>\n",
       "      <td>220</td>\n",
       "      <td>25</td>\n",
       "      <td>70.120.5.227</td>\n",
       "      <td>701205227</td>\n",
       "    </tr>\n",
       "    <tr>\n",
       "      <th>2019-08-23 11:45:04</th>\n",
       "      <td>1-fundamentals/1.1-intro-to-data-science</td>\n",
       "      <td>410</td>\n",
       "      <td>32</td>\n",
       "      <td>97.105.19.58</td>\n",
       "      <td>971051958</td>\n",
       "    </tr>\n",
       "    <tr>\n",
       "      <th>2019-08-23 11:46:16</th>\n",
       "      <td>1-fundamentals/1.1-intro-to-data-science</td>\n",
       "      <td>423</td>\n",
       "      <td>32</td>\n",
       "      <td>97.105.19.58</td>\n",
       "      <td>971051958</td>\n",
       "    </tr>\n",
       "    <tr>\n",
       "      <th>2019-08-23 11:46:29</th>\n",
       "      <td>1-fundamentals/1.1-intro-to-data-science</td>\n",
       "      <td>410</td>\n",
       "      <td>32</td>\n",
       "      <td>97.105.19.58</td>\n",
       "      <td>971051958</td>\n",
       "    </tr>\n",
       "    <tr>\n",
       "      <th>2019-08-23 11:46:31</th>\n",
       "      <td>1-fundamentals/1.1-intro-to-data-science</td>\n",
       "      <td>410</td>\n",
       "      <td>32</td>\n",
       "      <td>97.105.19.58</td>\n",
       "      <td>971051958</td>\n",
       "    </tr>\n",
       "  </tbody>\n",
       "</table>\n",
       "</div>"
      ],
      "text/plain": [
       "                                                  page_viewed  user_id  \\\n",
       "2019-04-13 01:40:39                              data-science      220   \n",
       "2019-08-23 11:45:04  1-fundamentals/1.1-intro-to-data-science      410   \n",
       "2019-08-23 11:46:16  1-fundamentals/1.1-intro-to-data-science      423   \n",
       "2019-08-23 11:46:29  1-fundamentals/1.1-intro-to-data-science      410   \n",
       "2019-08-23 11:46:31  1-fundamentals/1.1-intro-to-data-science      410   \n",
       "\n",
       "                     cohort_id            ip     ip_int  \n",
       "2019-04-13 01:40:39         25  70.120.5.227  701205227  \n",
       "2019-08-23 11:45:04         32  97.105.19.58  971051958  \n",
       "2019-08-23 11:46:16         32  97.105.19.58  971051958  \n",
       "2019-08-23 11:46:29         32  97.105.19.58  971051958  \n",
       "2019-08-23 11:46:31         32  97.105.19.58  971051958  "
      ]
     },
     "execution_count": 87,
     "metadata": {},
     "output_type": "execute_result"
    }
   ],
   "source": [
    "# using DS curriculum key words to check if WD students are accessing these lessons\n",
    "# can use 'Regression','Classification','Anomaly'\n",
    "WD_df[WD_df.page_viewed.str.contains('data-science')].head()"
   ]
  },
  {
   "cell_type": "code",
   "execution_count": 83,
   "metadata": {},
   "outputs": [
    {
     "data": {
      "text/plain": [
       "javascript-i                                                                 17\n",
       "jquery                                                                       16\n",
       "html-css/css-ii/bootstrap-introduction                                       13\n",
       "html-css                                                                     12\n",
       "html-css/css-ii/bootstrap-grid-system                                        11\n",
       "prework/cli                                                                  10\n",
       "javascript-ii/promises                                                        9\n",
       "javascript-ii                                                                 9\n",
       "java-i/syntax-types-and-variables                                             9\n",
       "basic-statements                                                              9\n",
       "mysql                                                                         8\n",
       "javascript-i/mapbox-api                                                       8\n",
       "mysql/introduction                                                            7\n",
       "javascript-i/introduction/working-with-data-types-operators-and-variables     7\n",
       "jquery/selectors                                                              7\n",
       "java-i                                                                        7\n",
       "javascript-i/bom-and-dom/dom                                                  6\n",
       "mysql/functions                                                               6\n",
       "jquery/ajax/weather-map                                                       6\n",
       "html-css/css-ii/media-queries                                                 6\n",
       "Name: page_viewed, dtype: int64"
      ]
     },
     "execution_count": 83,
     "metadata": {},
     "output_type": "execute_result"
    }
   ],
   "source": [
    "df[df.user_id == 730].page_viewed.value_counts().head(20)"
   ]
  },
  {
   "cell_type": "code",
   "execution_count": 109,
   "metadata": {},
   "outputs": [
    {
     "data": {
      "text/html": [
       "<div>\n",
       "<style scoped>\n",
       "    .dataframe tbody tr th:only-of-type {\n",
       "        vertical-align: middle;\n",
       "    }\n",
       "\n",
       "    .dataframe tbody tr th {\n",
       "        vertical-align: top;\n",
       "    }\n",
       "\n",
       "    .dataframe thead th {\n",
       "        text-align: right;\n",
       "    }\n",
       "</style>\n",
       "<table border=\"1\" class=\"dataframe\">\n",
       "  <thead>\n",
       "    <tr style=\"text-align: right;\">\n",
       "      <th></th>\n",
       "      <th>page_viewed</th>\n",
       "      <th>user_id</th>\n",
       "      <th>cohort_id</th>\n",
       "      <th>ip</th>\n",
       "      <th>ip_int</th>\n",
       "    </tr>\n",
       "  </thead>\n",
       "  <tbody>\n",
       "    <tr>\n",
       "      <th>2019-12-03 11:49:29</th>\n",
       "      <td>javascript-i</td>\n",
       "      <td>467</td>\n",
       "      <td>34</td>\n",
       "      <td>97.105.19.58</td>\n",
       "      <td>971051958</td>\n",
       "    </tr>\n",
       "    <tr>\n",
       "      <th>2019-12-03 11:49:33</th>\n",
       "      <td>javascript-ii</td>\n",
       "      <td>467</td>\n",
       "      <td>34</td>\n",
       "      <td>97.105.19.58</td>\n",
       "      <td>971051958</td>\n",
       "    </tr>\n",
       "    <tr>\n",
       "      <th>2019-12-03 11:49:35</th>\n",
       "      <td>java-ii</td>\n",
       "      <td>467</td>\n",
       "      <td>34</td>\n",
       "      <td>97.105.19.58</td>\n",
       "      <td>971051958</td>\n",
       "    </tr>\n",
       "    <tr>\n",
       "      <th>2019-12-14 16:46:24</th>\n",
       "      <td>javascript-i</td>\n",
       "      <td>476</td>\n",
       "      <td>34</td>\n",
       "      <td>136.50.49.145</td>\n",
       "      <td>1365049145</td>\n",
       "    </tr>\n",
       "    <tr>\n",
       "      <th>2020-05-19 16:03:32</th>\n",
       "      <td>java-ii/object-oriented-programming</td>\n",
       "      <td>590</td>\n",
       "      <td>55</td>\n",
       "      <td>130.45.47.56</td>\n",
       "      <td>130454756</td>\n",
       "    </tr>\n",
       "  </tbody>\n",
       "</table>\n",
       "</div>"
      ],
      "text/plain": [
       "                                             page_viewed  user_id  cohort_id  \\\n",
       "2019-12-03 11:49:29                         javascript-i      467         34   \n",
       "2019-12-03 11:49:33                        javascript-ii      467         34   \n",
       "2019-12-03 11:49:35                              java-ii      467         34   \n",
       "2019-12-14 16:46:24                         javascript-i      476         34   \n",
       "2020-05-19 16:03:32  java-ii/object-oriented-programming      590         55   \n",
       "\n",
       "                                ip      ip_int  \n",
       "2019-12-03 11:49:29   97.105.19.58   971051958  \n",
       "2019-12-03 11:49:33   97.105.19.58   971051958  \n",
       "2019-12-03 11:49:35   97.105.19.58   971051958  \n",
       "2019-12-14 16:46:24  136.50.49.145  1365049145  \n",
       "2020-05-19 16:03:32   130.45.47.56   130454756  "
      ]
     },
     "execution_count": 109,
     "metadata": {},
     "output_type": "execute_result"
    }
   ],
   "source": [
    "# using DS curriculum key words to check if WD students are accessing these lessons\n",
    "# can use 'java','html-css','jquery'\n",
    "DS_df[DS_df.page_viewed.str.contains('java', na=False)].tail()"
   ]
  },
  {
   "cell_type": "code",
   "execution_count": 114,
   "metadata": {},
   "outputs": [
    {
     "data": {
      "text/plain": [
       "1-fundamentals/2.2-excel-functions                 1\n",
       "java-ii/object-oriented-programming                1\n",
       "13-advanced-topics/3.7-styling-webpages            1\n",
       "12-distributed-ml/2-environment-setup              1\n",
       "python/project                                     1\n",
       "13-advanced-topics/3.1-developing-data-products    1\n",
       "4-python/type-annotations                          1\n",
       "3-sql/9.1-relationships-overview                   1\n",
       "sql/databases                                      1\n",
       "fundamentals/visualization-with-excel              1\n",
       "Name: page_viewed, dtype: int64"
      ]
     },
     "execution_count": 114,
     "metadata": {},
     "output_type": "execute_result"
    }
   ],
   "source": [
    "df[df.user_id == 590].page_viewed.value_counts().tail(10)"
   ]
  },
  {
   "cell_type": "markdown",
   "metadata": {},
   "source": [
    "## Takeaways\n",
    "- evidence of past *and* current cross access of curriculum\n",
    "- user 730 from a current web dev cohort is accessing DS lessons as of November this year\n",
    "- user 268 from a current data science cohort also attended a past WD cohort\n",
    "- most recent DS user accessing WD is in May 2020, user 590 Curie cohort (maybe a recently hired staff member)\n",
    "\n",
    "#### 97.105.19.58, 72.128.136.219 could be the Codeup building ip address, many users associated with it\n",
    "\n",
    "## Next Steps\n",
    "- Find a more efficient process to check for cross access\n",
    "- Request page names for each program to determine what is cross-access"
   ]
  },
  {
   "cell_type": "markdown",
   "metadata": {},
   "source": [
    "##### [Back to Table of Contents](#top-bullet)"
   ]
  },
  {
   "cell_type": "markdown",
   "metadata": {},
   "source": [
    "## What topics are grads continuing to reference after graduation and into their jobs (for each program)? <a class=\"anchor\" id=\"sixth-bullet\"></a>"
   ]
  },
  {
   "cell_type": "code",
   "execution_count": null,
   "metadata": {},
   "outputs": [],
   "source": []
  },
  {
   "cell_type": "markdown",
   "metadata": {},
   "source": [
    "##### [Back to Table of Contents](#top-bullet)"
   ]
  },
  {
   "cell_type": "markdown",
   "metadata": {},
   "source": [
    "## Which lessons are least accessed? <a class=\"anchor\" id=\"seventh-bullet\"></a>"
   ]
  },
  {
   "cell_type": "code",
   "execution_count": 47,
   "metadata": {},
   "outputs": [],
   "source": [
    "page_counts = pd.DataFrame(WD_df.page_viewed.value_counts())"
   ]
  },
  {
   "cell_type": "code",
   "execution_count": 48,
   "metadata": {
    "scrolled": true
   },
   "outputs": [
    {
     "data": {
      "text/plain": [
       "['2.02.04_Distribution_and_Test',\n",
       " 'interview-questions',\n",
       " '8.05_Deliver',\n",
       " 'clustering/project',\n",
       " '11-nlp/topic-modeling',\n",
       " 'java-i/control-statements-and-loops/g',\n",
       " '5.04.04_LeastAngleRegression',\n",
       " 'javascript-ii/promisesdfghjkjhgfs',\n",
       " 'anomaly-detection/detecting-timeseries-anomalies',\n",
       " 'sql/case-statements',\n",
       " 'tc-ml',\n",
       " 'fundamentals/cli/more-topics',\n",
       " 'content/html-css/forms-i/index.html',\n",
       " '132',\n",
       " 'classification/project',\n",
       " 'content/javascript/arrays/arrays',\n",
       " 'cohorts/24/capstone-all',\n",
       " 'introduction/variables',\n",
       " 'distributed-ml/spark-api',\n",
       " '8.01_Acquire',\n",
       " 'capstone/52',\n",
       " '8._Time_Series',\n",
       " 'sql/group-by',\n",
       " '10.02.03_TFIDF',\n",
       " 'nlp/model',\n",
       " 'students/743/notes/1',\n",
       " 'advanced-topics/building-a-model',\n",
       " '8.03_Explore',\n",
       " '6.04.04_LogisticRegression',\n",
       " 'python/series',\n",
       " 'cli-06-moving-files',\n",
       " '13.01.03_Refine',\n",
       " 'javascri',\n",
       " 'fundamentals/data-science-pipeline',\n",
       " 'content/examples/php/technology-companies.php',\n",
       " 'extra-challenges',\n",
       " 'distributed-ml/environment-setup',\n",
       " 'content/examples/javascript/conditionals.html',\n",
       " 'asdf',\n",
       " '7.04.01_Partitioning',\n",
       " '13.01.01_Understand',\n",
       " 'storytelling/understand',\n",
       " 'quiz118',\n",
       " 'students/468/notes',\n",
       " 'About_NLP',\n",
       " 'python/imports',\n",
       " 'mysql//functions',\n",
       " '4-python/7.2-intro-to-matplotlib',\n",
       " 'clustering/model',\n",
       " 'sql/basic-statements',\n",
       " 'sql/joins',\n",
       " 'python/dataframes',\n",
       " 'cohorts/24/grades',\n",
       " 'spring/extra-features/error-pages/asdfasdf',\n",
       " '4_Matplotlib_Styles',\n",
       " '7.00_Intro',\n",
       " 'distributed-ml/ml-with-spark',\n",
       " 'essential-methods/traversing',\n",
       " '3-sql/7-functions',\n",
       " 'python/intro-to-numpy',\n",
       " '6.04.07_Ensemble',\n",
       " '10.04.02_FeatureExtraction_Word2Vec',\n",
       " '10._NLP',\n",
       " 'strings',\n",
       " 'classification/decision-trees',\n",
       " '.gitignore',\n",
       " 'classification/acquire',\n",
       " 'further-reading/javascript/array-splice',\n",
       " 'nlp/prepare',\n",
       " 'html-css/css-i/flexbox-fundamentals',\n",
       " 'css',\n",
       " 'sql/more-exercises',\n",
       " '4-python/7.3-intro-to-numpy',\n",
       " '7-classification/6.4-knn',\n",
       " 'anomaly-detection/overview',\n",
       " 'nlp/acquire',\n",
       " 'javascript/google-maps-api',\n",
       " 'quic/115',\n",
       " 'slides/exceptions',\n",
       " '1-fundamentals/project',\n",
       " 'capstone/53',\n",
       " '13.01.04_Present',\n",
       " 'python/intro-to-matplotlib',\n",
       " 'java-iii/servelets',\n",
       " '13.01.02_Create',\n",
       " '10.04.04_TextClassification',\n",
       " '4_Objects',\n",
       " 'python/pandas-overview',\n",
       " 'PreWork/PreWork/cli',\n",
       " 'regression/overview',\n",
       " '130',\n",
       " 'timeseries/working-with-time-series-data',\n",
       " 'content/examples/html',\n",
       " '8.1_Overview',\n",
       " 'syntax-types-and-variables',\n",
       " 'capstone/55',\n",
       " '10.00_Intro.html',\n",
       " 'javascript-i/primitive-types',\n",
       " 'advanced-topics/styling-webpages',\n",
       " 'storytelling/bad-charts',\n",
       " 'classification/evaluation',\n",
       " 'html-css/elecments',\n",
       " 'content/php_iii/alternative-syntax.html',\n",
       " '10.2_Regex',\n",
       " 'sql/clauses-overview',\n",
       " 'classification/logistic-regression',\n",
       " 'clustering/explore',\n",
       " 'introduction/operators',\n",
       " 'java-1',\n",
       " 'content/examples/php/internal_functions.php',\n",
       " '4-python/7.4-intro-to-pandas',\n",
       " 'student/850',\n",
       " 'classification/overview',\n",
       " 'html-css/box',\n",
       " 'content/loops.html',\n",
       " '5-regression/1-overview',\n",
       " 'prework/cli/07-editing-files-with-vim',\n",
       " '04_navigating_the_filesystem',\n",
       " 'code-standards/javascript',\n",
       " 'mysql//extra-exercises',\n",
       " 'stats/correlation',\n",
       " 'sql/temporary-tables',\n",
       " 'fundamentals/cli/overview',\n",
       " 'javascript-i/bom-and-dom/bom/google.com',\n",
       " '7-classification/confusion-matrix',\n",
       " 'prework/fundamentals/function',\n",
       " '6.04.05_SVM',\n",
       " 'slides/exceptions_and_error_handlings',\n",
       " 'sql/subqueries',\n",
       " 'mysql/java-iii',\n",
       " 'advanced-topics/html-forms',\n",
       " 'student/120',\n",
       " 'slides/css',\n",
       " 'sql/limit',\n",
       " 'advanced-topics/cross-validation',\n",
       " 'web-design/ux',\n",
       " '11.03_Explore.md',\n",
       " 'php_i/gitbook/images/favicon.ico',\n",
       " '6._Classification',\n",
       " 'student',\n",
       " 'further-reading/java/intellij-tomcat-configuration',\n",
       " 'python/ds-libraries-overview',\n",
       " 'timeseries/explore',\n",
       " 'extra-challenges/basic-challenges',\n",
       " 'student/202',\n",
       " '2-storytelling/2.2-create',\n",
       " '6.00_Intro',\n",
       " 'content/javascript-with-html.html',\n",
       " 'examples/javascript/jasmine-3.5.0.zip',\n",
       " '11.00_Intro.md',\n",
       " 'examples/html/welcome',\n",
       " 'regression/model',\n",
       " '6-regression/3.1-acquire-and-prep',\n",
       " 'anomaly-detection/discrete-probabilistic-methods',\n",
       " 'nlp/regular-expressions',\n",
       " 'sql/order-by',\n",
       " 'html',\n",
       " 'anomaly-detection/continuous-probabilistic-methods',\n",
       " 'content/postwork/dashboard.md',\n",
       " '131',\n",
       " 'fundamentals/visualization-with-excel',\n",
       " '6.02.02_MissingVals',\n",
       " 'spring/services',\n",
       " 'advanced-topics/html-templates',\n",
       " 'fundamentals/git',\n",
       " 'prework/cli/03-filepaths',\n",
       " 'mysql//sample-database',\n",
       " '3-sql/5-basic-statements',\n",
       " 'advanced-topics/developing-data-products',\n",
       " '7.01_Acquire',\n",
       " 'codeup-exercises',\n",
       " 'python/advanced-dataframes',\n",
       " 'bom-and-dom/dom-events',\n",
       " 'fundamentals/vocabulary',\n",
       " 'help',\n",
       " 'quize/98',\n",
       " '10.04.01_FeatureExtraction_FreqBased',\n",
       " 'stats/simulation',\n",
       " 'timeseries/modeling-lesson2',\n",
       " '10.04.05_TopicModeling',\n",
       " 'content/conditionals.html',\n",
       " 'extra-challenges/java-file-io-extras',\n",
       " '6.02.01_Prep',\n",
       " 'app',\n",
       " '6-regression/2-regression-excel',\n",
       " 'sql/mysql-overview',\n",
       " 'storytelling/overview',\n",
       " 'advanced-topics/virtual-environments',\n",
       " 'professional-development/cover-letter',\n",
       " 'nlp/overview',\n",
       " 'css-i/introduction',\n",
       " 'sql/functions',\n",
       " '03_file_paths',\n",
       " 'elements/html',\n",
       " 'content/examples/javascript/primitive-types.html',\n",
       " '5.04.05_Exercises',\n",
       " 'html-css/grid/css-grid-fundamentals',\n",
       " 'java-iii/servlets/cssasxz',\n",
       " '10.04.03_SentimentAnalysis',\n",
       " 'codeupexercises',\n",
       " 'datascience',\n",
       " 'objects/math',\n",
       " '6.04.06_RandomForest',\n",
       " 'html/forms',\n",
       " '13.03_Bokeh',\n",
       " 'further-reading/html-css/flexbox-additional-concepts',\n",
       " '1-fundamentals/2.1-intro-to-excel',\n",
       " '2.0_Intro_Stats',\n",
       " 'slides/exceptions_and_errorhandlings',\n",
       " 'handouts',\n",
       " 'content/git/index.html',\n",
       " '9.1_About',\n",
       " 'stats/more-statistical-testing-examples',\n",
       " 'relationships/indexes',\n",
       " 'sql/indexes',\n",
       " '2-stats/2.2-excel-functions',\n",
       " '11-nlp/1-overview',\n",
       " 'python/overview',\n",
       " 'wp-admin',\n",
       " 'wp-login',\n",
       " '8.0_Intro_Module',\n",
       " '2-stats/2.1-intro-to-excel',\n",
       " 'distributed-ml/wrangle',\n",
       " 'bom-and-dom/dom',\n",
       " 'sql/relationships-overview',\n",
       " 'content/jquery/events/gitbook/images/favicon.ico',\n",
       " '8.02_Prep',\n",
       " '7._Clustering',\n",
       " 'mysql//ntellij',\n",
       " 'fundamentals/pipeline-demo',\n",
       " 'student-page',\n",
       " '02_listing_files',\n",
       " 'data-1',\n",
       " 'java-iii/servelet',\n",
       " 'regression/feature-engineering',\n",
       " 'fundamentals/cli/moving-files',\n",
       " '3-sql/9.3-joins',\n",
       " '6.01.02_Acquirecsv',\n",
       " 'arash-arghavan',\n",
       " '9.20_Data',\n",
       " '10.01_Acquire_WebScraping',\n",
       " '5-stats/2-descriptive-stats',\n",
       " '4-python/intro-to-sklearn',\n",
       " 'fundamentals/cli/creating-files-and-directories',\n",
       " 'java-iii/mvc.jsp',\n",
       " 'html-css/css-ii/boostrap-grid-system',\n",
       " '2-storytelling/bad-charts',\n",
       " 'javascript-i/math',\n",
       " '2-stats/2.2-navigating-excel',\n",
       " 'clustering/wrangle',\n",
       " '13.11_Exercises',\n",
       " 'fundamentals/cli/navigating-the-filesystem',\n",
       " 'html-css/positioning',\n",
       " '6-regression/3.3-explore',\n",
       " 'javascript/loops',\n",
       " 'stats/overview',\n",
       " 'bonus-exercises',\n",
       " 'Dataset_Challenge',\n",
       " 'capstone/50',\n",
       " 'storytelling/creating-charts',\n",
       " 'content/examples/php/arithmetic.php',\n",
       " 'stats/compare-means',\n",
       " '13.01.02.04_Prototype',\n",
       " 'storytelling/creating-custom-fields',\n",
       " 'storytelling/refine',\n",
       " 'fundamentals/repositories',\n",
       " '2.02.02_Sampling',\n",
       " 'sql/tables',\n",
       " 'distributed-ml/explore',\n",
       " '13.01.02.02_TalkAndListen',\n",
       " 'capstone/54',\n",
       " 'examples/css/..%255c',\n",
       " 'sql/mysql-introduction',\n",
       " '5.02_Prep',\n",
       " 'html-css/css-i/positioning/specimen/MaterialIcons-Regular.woff',\n",
       " '8.04.03_MLModeling',\n",
       " 'regression/acquire-and-prep',\n",
       " 'content/mysql/relationships/indexes.html',\n",
       " 'console-io',\n",
       " 'data-science',\n",
       " '1-fundamentals/2.4-more-excel-features',\n",
       " 'regression/explore',\n",
       " 'fundamentals/cli/intro',\n",
       " 'examples/css/%252e%252e%255c',\n",
       " 'fundamentals/views',\n",
       " '5-stats/sampling',\n",
       " 'java-ii/file-op',\n",
       " 'storytelling/connecting-to-data',\n",
       " 'timeseries/project',\n",
       " 'prework/fundamentals/loop',\n",
       " 'classification/tidy-data',\n",
       " 'content/mysql/intro-to-mysql/index.html',\n",
       " 'npm',\n",
       " 'students/743/notes/0',\n",
       " '7.04.02_Hierarchical',\n",
       " '8.00_Intro',\n",
       " 'stats/hypothesis-testing-overview',\n",
       " '133',\n",
       " 'quiz115',\n",
       " 'content/examples/php/Input.php',\n",
       " 'content/control-structures-ii',\n",
       " 'storytelling/present',\n",
       " 'repo-doc',\n",
       " 'object-oriented-programming',\n",
       " 'distributed-ml/overview',\n",
       " '13.01.02.01_Prep',\n",
       " 'storytelling/creating-dashboards',\n",
       " 'anomaly-detection/detecting-with-clustering',\n",
       " 'extra-features/file-upload',\n",
       " '115',\n",
       " '4.6.0_DS_Libraries_Overview',\n",
       " 'slides/threads',\n",
       " '6.01.01_AcquireSQL',\n",
       " 'python/introduction-to-python',\n",
       " '6.03_Explore',\n",
       " 'regression/project',\n",
       " '5.04.03_RidgeRegression',\n",
       " 'main-pages_xXxXx.html',\n",
       " 'register.',\n",
       " 'timeseries/prep',\n",
       " 'javascript/apendix',\n",
       " 'ui/typography',\n",
       " 'content/examples/gitbook/images/favicon.ico',\n",
       " 'examples/css/..%c0%af',\n",
       " 'learn-to-code',\n",
       " 'fundamentals/environment-setup',\n",
       " 'timeseries/overview',\n",
       " 'quiz/submit/2186',\n",
       " '11.01.02_DataAcquisition',\n",
       " 'hfdgafdja',\n",
       " 'fundamentals/intro-to-data-science',\n",
       " 'fundamentals/cli/listing-files',\n",
       " '6.01.03_Summarize',\n",
       " '.git',\n",
       " 'sql/databases',\n",
       " '7.03_Explore',\n",
       " 'html-css/css-i/positioning/specimen/MaterialIcons-Regular.ttf',\n",
       " 'introduction-to-matplotlib',\n",
       " 'storytelling/creating-stories',\n",
       " '13.01.02.03_Sketch',\n",
       " 'Regression_Python',\n",
       " 'content/examples/php/while.html',\n",
       " 'content/examples/constructors-destructors.html',\n",
       " 'annotations',\n",
       " 'slidesexceptions_and_errorhandlings',\n",
       " 'python/data-types-and-variables',\n",
       " 'teams',\n",
       " 'regression/split-and-scale',\n",
       " 'glossary',\n",
       " 'classification/random-forests',\n",
       " 'java-i/loops',\n",
       " 'javascript-functions',\n",
       " '13.02_Tableau',\n",
       " 'one',\n",
       " 'examples/css/..%5c',\n",
       " 'students/743/notes',\n",
       " 'storytelling/create',\n",
       " 'java-i/control-stateedabitments-and-loops',\n",
       " 'javascript-i/bom-and-dom/bom/http%22://www.google.com',\n",
       " 'fundamentals/spreadsheets-overview',\n",
       " '8.04.02_ParametricModeling',\n",
       " 'python/functions',\n",
       " 'students/units/75/sub_units/268',\n",
       " 'timeseries/modeling-lesson1',\n",
       " 'fundamentals/functions',\n",
       " '6.04.01_Preprocessing',\n",
       " 'classification/prep',\n",
       " 'stats/probability-distributions',\n",
       " '2-storytelling/1-overview',\n",
       " 'query/personal-site',\n",
       " 'content/mysql/clauses/order-by.html',\n",
       " 'css-ii/grids',\n",
       " 'jquery/traversing',\n",
       " 'python/intro-to-seaborn',\n",
       " 'content/jquery/effects/gitbook/images/favicon.ico',\n",
       " 'mysql/clauses/limit-order-by',\n",
       " '6.05_Deliver',\n",
       " 'html-css/img/favicon.ico',\n",
       " '10.10_Exercises',\n",
       " 'content/html-css/elements-i/lists.html',\n",
       " 'sql/where',\n",
       " 'teams/13',\n",
       " 'classification/explore',\n",
       " 'stats/compare-group-membership',\n",
       " 'clustering/overview',\n",
       " 'html-css/css-i/positioning/specimen/MaterialIcons-Regular.woff2',\n",
       " '13.5_Tableau',\n",
       " 'nlp/explore',\n",
       " 'timeseries/acquire',\n",
       " 'advanced-topics/intro-to-flask',\n",
       " 'classification/knn',\n",
       " '11.04_Modeling.md',\n",
       " 'students',\n",
       " 'capsones/151',\n",
       " 'interview',\n",
       " 'prework/fundamentals/if-statement',\n",
       " 'javascript-i/loops/google.com',\n",
       " '10.02.02_POSTagging',\n",
       " 'home',\n",
       " 'ajax',\n",
       " 'src',\n",
       " '10.03_Explore',\n",
       " 'java-iii/jdbc/poop',\n",
       " 'storytelling/tableau',\n",
       " 'htmle-css/elements',\n",
       " 'student/create',\n",
       " 'jquery/whack-a-mole',\n",
       " 'examples/twitter.html',\n",
       " '12.3.6_Page_Styling',\n",
       " '10.02.01_ParseText',\n",
       " 'nlp/project',\n",
       " 'ajax/weather-map',\n",
       " 'slides/coding_best_practices',\n",
       " 'fundamentals/cli/file-paths',\n",
       " '05_creating_files_and_directories']"
      ]
     },
     "execution_count": 48,
     "metadata": {},
     "output_type": "execute_result"
    }
   ],
   "source": [
    "# pages with anly one count of views\n",
    "list(page_counts[page_counts.page_viewed == 1].index)"
   ]
  },
  {
   "cell_type": "markdown",
   "metadata": {},
   "source": [
    "### Curriculumn from this list by Web Devlopment Users\n",
    "- cli/4-navigating-the-filesystem\n",
    "- javascript-i/math\n",
    "- 8.0_Intro_Module\n",
    "- 4-stats/1-descriptive-stats\n",
    "- 6-regression/4-multivariate-regression-in-excel\n",
    "- 2-sql/database-design\n",
    "- 5-stats/4.2-compare-means/null\n",
    "- 12-distributed-ml/spark-topics\n",
    "- java-iii/servelet"
   ]
  },
  {
   "cell_type": "code",
   "execution_count": 49,
   "metadata": {},
   "outputs": [],
   "source": [
    "page_counts = pd.DataFrame(DS_df.page_viewed.value_counts())"
   ]
  },
  {
   "cell_type": "code",
   "execution_count": 50,
   "metadata": {
    "scrolled": true
   },
   "outputs": [
    {
     "data": {
      "text/plain": [
       "['cli/4-navigating-the-filesystem',\n",
       " 'anomaly-detection/time-series-anomaly-detection-part-1',\n",
       " 'stats/probability-and-event-interactions',\n",
       " '9-timeseries/6.2-prophet',\n",
       " 'javascript-i/bom-and-dom/dom',\n",
       " 'imports',\n",
       " 'b-clustering/project',\n",
       " '7.4.2-series',\n",
       " '6-regression/8-Project',\n",
       " 'bad-charts',\n",
       " 'spring/extra-features/error-pages',\n",
       " '5-stats/4.2-compare-means/null',\n",
       " 'itc-ml',\n",
       " 'scale_features_or_not.svg',\n",
       " 'python/custom-sorting-functions',\n",
       " '3-vocabulary',\n",
       " '12-distributed-ml/spark-topics',\n",
       " 'A-clustering/project',\n",
       " '12-distributed-ml/5-inspect',\n",
       " 'database-design',\n",
       " '12-distributed-ml/6.1-prepare-part-1',\n",
       " 'statistics-assessment',\n",
       " '2-storytelling/1-overview/www.qlik.com',\n",
       " 'javascript-i/conditionals',\n",
       " '5-detecting-with-clustering',\n",
       " 'python/handling-duplicate-values',\n",
       " 'regression/least-angle-regression',\n",
       " '9-timeseries/6.1-parametric-modeling',\n",
       " '7-classification/svm',\n",
       " 'index.html',\n",
       " 'classification/handling-missing-values',\n",
       " '4-python/pandas-lesson',\n",
       " '12-distributed-ml/4-acquire',\n",
       " '12-distributed-ml/3-getting-started',\n",
       " 'Index.html',\n",
       " 'classification/project-old-exec',\n",
       " '12-distributed-ml/6.2-prepare-part-2',\n",
       " 'java-ii/object-oriented-programming',\n",
       " 'spring/extra-features/error-pages/asdfasdf',\n",
       " '12-distributed-ml/8.1-classification',\n",
       " '3-sql',\n",
       " '12-distributed-ml/6.4-prepare-part-4',\n",
       " 'itc%20-%20ml',\n",
       " 'regression/project/null',\n",
       " '10-anomaly-detection/3-discrete-probabilistic-methods.ipynb',\n",
       " 'distributed-ml/read-jdbc',\n",
       " 'explore',\n",
       " 'curie-statistics-assessment',\n",
       " '4.2-compare-means',\n",
       " '7.4.1-pandas-overview',\n",
       " '2.1-spreadsheets-overview',\n",
       " 'java-i/console-io',\n",
       " '7-classification/confusion-matrix',\n",
       " 'stats-assessment',\n",
       " '12-distributed-ml/6.3-prepare-part-3',\n",
       " 'grades',\n",
       " ',%20https://github.com/RaulCPena',\n",
       " 'advanced-topics/html-forms',\n",
       " 'git/cli',\n",
       " 'end_to_end_clustering',\n",
       " '2-storytelling/chart-types',\n",
       " 'End_to_End_clustering',\n",
       " '%20https://github.com/RaulCPena',\n",
       " 'regression/ridge-regression',\n",
       " 'advanced-topics/tidy-data',\n",
       " 'grades/getUserDetails/916/3',\n",
       " 'capstones']"
      ]
     },
     "execution_count": 50,
     "metadata": {},
     "output_type": "execute_result"
    }
   ],
   "source": [
    "# pages with anly one count of views\n",
    "list(page_counts[page_counts.page_viewed == 1].index)"
   ]
  },
  {
   "cell_type": "markdown",
   "metadata": {},
   "source": [
    "##### [Back to Table of Contents](#top-bullet)"
   ]
  },
  {
   "cell_type": "markdown",
   "metadata": {},
   "source": [
    "# Final Conclusions <a class=\"anchor\" id=\"eight-bullet\"></a>"
   ]
  },
  {
   "cell_type": "markdown",
   "metadata": {},
   "source": [
    "Which lesson appears to attract the most traffic consistently across cohorts (per program)?\n",
    "- intro lessons  \n",
    "\n",
    "Is there a cohort that referred to a lesson significantly more that other cohorts seemed to gloss over?\n",
    "- curie with \n",
    "- darden with\n",
    "\n",
    "Are there students who, when active, hardly access the curriculum? If so, what information do you have about these students?\n",
    "- inactivity of certain users seems to be caused by changing user ids\n",
    "\n",
    "Is there any suspicious activity, such as users/machines/etc accessing the curriculum who shouldn’t be? Does it appear that any web-scraping is happening? Are there any suspicious IP addresses? Any odd user-agents?\n",
    "- supsicous from china\n",
    "\n",
    "At some point in the last year, ability for students and alumni to cross-access curriculum (web dev to ds, ds to web dev) should have been shut off. Do you see any evidence of that happening? Did it happen before?\n",
    "- Most evidence suggests cross access is from past, two users\n",
    "\n",
    "What topics are grads continuing to reference after graduation and into their jobs (for each program)?\n",
    "- tba\n",
    "\n",
    "Which lessons are least accessed?\n",
    "- tba"
   ]
  }
 ],
 "metadata": {
  "kernelspec": {
   "display_name": "Python 3",
   "language": "python",
   "name": "python3"
  },
  "language_info": {
   "codemirror_mode": {
    "name": "ipython",
    "version": 3
   },
   "file_extension": ".py",
   "mimetype": "text/x-python",
   "name": "python",
   "nbconvert_exporter": "python",
   "pygments_lexer": "ipython3",
   "version": "3.7.6"
  }
 },
 "nbformat": 4,
 "nbformat_minor": 4
}
